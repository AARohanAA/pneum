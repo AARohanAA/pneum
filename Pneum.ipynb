{
  "nbformat": 4,
  "nbformat_minor": 0,
  "metadata": {
    "accelerator": "GPU",
    "colab": {
      "name": "Pneum.ipynb",
      "provenance": [],
      "collapsed_sections": [],
      "authorship_tag": "ABX9TyMsPQgyUt31pdaRWKf3cx2l",
      "include_colab_link": true
    },
    "kernelspec": {
      "display_name": "Python 3",
      "name": "python3"
    },
    "widgets": {
      "application/vnd.jupyter.widget-state+json": {
        "4651f20bb4fe4f43a05e839400d4b888": {
          "model_module": "@jupyter-widgets/controls",
          "model_name": "HBoxModel",
          "state": {
            "_view_name": "HBoxView",
            "_dom_classes": [],
            "_model_name": "HBoxModel",
            "_view_module": "@jupyter-widgets/controls",
            "_model_module_version": "1.5.0",
            "_view_count": null,
            "_view_module_version": "1.5.0",
            "box_style": "",
            "layout": "IPY_MODEL_2d479d03ab75427aa158bce6764fa1d7",
            "_model_module": "@jupyter-widgets/controls",
            "children": [
              "IPY_MODEL_72f3623e22c34c84b6072e9efe91d92d",
              "IPY_MODEL_1847c0d3b3194628bd9ae93615f7a6f8"
            ]
          }
        },
        "2d479d03ab75427aa158bce6764fa1d7": {
          "model_module": "@jupyter-widgets/base",
          "model_name": "LayoutModel",
          "state": {
            "_view_name": "LayoutView",
            "grid_template_rows": null,
            "right": null,
            "justify_content": null,
            "_view_module": "@jupyter-widgets/base",
            "overflow": null,
            "_model_module_version": "1.2.0",
            "_view_count": null,
            "flex_flow": null,
            "width": null,
            "min_width": null,
            "border": null,
            "align_items": null,
            "bottom": null,
            "_model_module": "@jupyter-widgets/base",
            "top": null,
            "grid_column": null,
            "overflow_y": null,
            "overflow_x": null,
            "grid_auto_flow": null,
            "grid_area": null,
            "grid_template_columns": null,
            "flex": null,
            "_model_name": "LayoutModel",
            "justify_items": null,
            "grid_row": null,
            "max_height": null,
            "align_content": null,
            "visibility": null,
            "align_self": null,
            "height": null,
            "min_height": null,
            "padding": null,
            "grid_auto_rows": null,
            "grid_gap": null,
            "max_width": null,
            "order": null,
            "_view_module_version": "1.2.0",
            "grid_template_areas": null,
            "object_position": null,
            "object_fit": null,
            "grid_auto_columns": null,
            "margin": null,
            "display": null,
            "left": null
          }
        },
        "72f3623e22c34c84b6072e9efe91d92d": {
          "model_module": "@jupyter-widgets/controls",
          "model_name": "FloatProgressModel",
          "state": {
            "_view_name": "ProgressView",
            "style": "IPY_MODEL_5795251110204c5ab18c5473d5833e5d",
            "_dom_classes": [],
            "description": "100%",
            "_model_name": "FloatProgressModel",
            "bar_style": "success",
            "max": 87306240,
            "_view_module": "@jupyter-widgets/controls",
            "_model_module_version": "1.5.0",
            "value": 87306240,
            "_view_count": null,
            "_view_module_version": "1.5.0",
            "orientation": "horizontal",
            "min": 0,
            "description_tooltip": null,
            "_model_module": "@jupyter-widgets/controls",
            "layout": "IPY_MODEL_084dc4c4aa204c82b8a02a462d18bc0e"
          }
        },
        "1847c0d3b3194628bd9ae93615f7a6f8": {
          "model_module": "@jupyter-widgets/controls",
          "model_name": "HTMLModel",
          "state": {
            "_view_name": "HTMLView",
            "style": "IPY_MODEL_37e066426a9f4bb197c2b34456bc0d17",
            "_dom_classes": [],
            "description": "",
            "_model_name": "HTMLModel",
            "placeholder": "​",
            "_view_module": "@jupyter-widgets/controls",
            "_model_module_version": "1.5.0",
            "value": " 83.3M/83.3M [01:22&lt;00:00, 1.06MB/s]",
            "_view_count": null,
            "_view_module_version": "1.5.0",
            "description_tooltip": null,
            "_model_module": "@jupyter-widgets/controls",
            "layout": "IPY_MODEL_cd683cb9532c484590eeb4b6de1bd827"
          }
        },
        "5795251110204c5ab18c5473d5833e5d": {
          "model_module": "@jupyter-widgets/controls",
          "model_name": "ProgressStyleModel",
          "state": {
            "_view_name": "StyleView",
            "_model_name": "ProgressStyleModel",
            "description_width": "initial",
            "_view_module": "@jupyter-widgets/base",
            "_model_module_version": "1.5.0",
            "_view_count": null,
            "_view_module_version": "1.2.0",
            "bar_color": null,
            "_model_module": "@jupyter-widgets/controls"
          }
        },
        "084dc4c4aa204c82b8a02a462d18bc0e": {
          "model_module": "@jupyter-widgets/base",
          "model_name": "LayoutModel",
          "state": {
            "_view_name": "LayoutView",
            "grid_template_rows": null,
            "right": null,
            "justify_content": null,
            "_view_module": "@jupyter-widgets/base",
            "overflow": null,
            "_model_module_version": "1.2.0",
            "_view_count": null,
            "flex_flow": null,
            "width": null,
            "min_width": null,
            "border": null,
            "align_items": null,
            "bottom": null,
            "_model_module": "@jupyter-widgets/base",
            "top": null,
            "grid_column": null,
            "overflow_y": null,
            "overflow_x": null,
            "grid_auto_flow": null,
            "grid_area": null,
            "grid_template_columns": null,
            "flex": null,
            "_model_name": "LayoutModel",
            "justify_items": null,
            "grid_row": null,
            "max_height": null,
            "align_content": null,
            "visibility": null,
            "align_self": null,
            "height": null,
            "min_height": null,
            "padding": null,
            "grid_auto_rows": null,
            "grid_gap": null,
            "max_width": null,
            "order": null,
            "_view_module_version": "1.2.0",
            "grid_template_areas": null,
            "object_position": null,
            "object_fit": null,
            "grid_auto_columns": null,
            "margin": null,
            "display": null,
            "left": null
          }
        },
        "37e066426a9f4bb197c2b34456bc0d17": {
          "model_module": "@jupyter-widgets/controls",
          "model_name": "DescriptionStyleModel",
          "state": {
            "_view_name": "StyleView",
            "_model_name": "DescriptionStyleModel",
            "description_width": "",
            "_view_module": "@jupyter-widgets/base",
            "_model_module_version": "1.5.0",
            "_view_count": null,
            "_view_module_version": "1.2.0",
            "_model_module": "@jupyter-widgets/controls"
          }
        },
        "cd683cb9532c484590eeb4b6de1bd827": {
          "model_module": "@jupyter-widgets/base",
          "model_name": "LayoutModel",
          "state": {
            "_view_name": "LayoutView",
            "grid_template_rows": null,
            "right": null,
            "justify_content": null,
            "_view_module": "@jupyter-widgets/base",
            "overflow": null,
            "_model_module_version": "1.2.0",
            "_view_count": null,
            "flex_flow": null,
            "width": null,
            "min_width": null,
            "border": null,
            "align_items": null,
            "bottom": null,
            "_model_module": "@jupyter-widgets/base",
            "top": null,
            "grid_column": null,
            "overflow_y": null,
            "overflow_x": null,
            "grid_auto_flow": null,
            "grid_area": null,
            "grid_template_columns": null,
            "flex": null,
            "_model_name": "LayoutModel",
            "justify_items": null,
            "grid_row": null,
            "max_height": null,
            "align_content": null,
            "visibility": null,
            "align_self": null,
            "height": null,
            "min_height": null,
            "padding": null,
            "grid_auto_rows": null,
            "grid_gap": null,
            "max_width": null,
            "order": null,
            "_view_module_version": "1.2.0",
            "grid_template_areas": null,
            "object_position": null,
            "object_fit": null,
            "grid_auto_columns": null,
            "margin": null,
            "display": null,
            "left": null
          }
        },
        "8727ae47c6c3472a9c0186b618f2e30a": {
          "model_module": "@jupyter-widgets/controls",
          "model_name": "FileUploadModel",
          "state": {
            "_view_name": "FileUploadView",
            "_counter": 2,
            "style": "IPY_MODEL_dbac0da0ab7d4626b2d223db6e6e5609",
            "_dom_classes": [],
            "description": "Upload",
            "multiple": false,
            "_model_name": "FileUploadModel",
            "data": [
              null
            ],
            "button_style": "",
            "_view_module": "@jupyter-widgets/controls",
            "_model_module_version": "1.5.0",
            "accept": "",
            "_view_count": null,
            "disabled": false,
            "_view_module_version": "1.5.0",
            "error": "",
            "description_tooltip": null,
            "metadata": [
              {
                "name": "NORMAL2-IM-0380-0001.jpeg",
                "type": "image/jpeg",
                "size": 244900,
                "lastModified": 1604853998567
              }
            ],
            "_model_module": "@jupyter-widgets/controls",
            "layout": "IPY_MODEL_a992bcf46c664eef988b9e470b6f0a5f",
            "icon": "upload"
          }
        },
        "dbac0da0ab7d4626b2d223db6e6e5609": {
          "model_module": "@jupyter-widgets/controls",
          "model_name": "ButtonStyleModel",
          "state": {
            "_view_name": "StyleView",
            "_model_name": "ButtonStyleModel",
            "_view_module": "@jupyter-widgets/base",
            "_model_module_version": "1.5.0",
            "_view_count": null,
            "button_color": null,
            "font_weight": "",
            "_view_module_version": "1.2.0",
            "_model_module": "@jupyter-widgets/controls"
          }
        },
        "a992bcf46c664eef988b9e470b6f0a5f": {
          "model_module": "@jupyter-widgets/base",
          "model_name": "LayoutModel",
          "state": {
            "_view_name": "LayoutView",
            "grid_template_rows": null,
            "right": null,
            "justify_content": null,
            "_view_module": "@jupyter-widgets/base",
            "overflow": null,
            "_model_module_version": "1.2.0",
            "_view_count": null,
            "flex_flow": null,
            "width": null,
            "min_width": null,
            "border": null,
            "align_items": null,
            "bottom": null,
            "_model_module": "@jupyter-widgets/base",
            "top": null,
            "grid_column": null,
            "overflow_y": null,
            "overflow_x": null,
            "grid_auto_flow": null,
            "grid_area": null,
            "grid_template_columns": null,
            "flex": null,
            "_model_name": "LayoutModel",
            "justify_items": null,
            "grid_row": null,
            "max_height": null,
            "align_content": null,
            "visibility": null,
            "align_self": null,
            "height": null,
            "min_height": null,
            "padding": null,
            "grid_auto_rows": null,
            "grid_gap": null,
            "max_width": null,
            "order": null,
            "_view_module_version": "1.2.0",
            "grid_template_areas": null,
            "object_position": null,
            "object_fit": null,
            "grid_auto_columns": null,
            "margin": null,
            "display": null,
            "left": null
          }
        },
        "a40caa0a05a9467fbab9ba9988be1106": {
          "model_module": "@jupyter-widgets/output",
          "model_name": "OutputModel",
          "state": {
            "_view_name": "OutputView",
            "msg_id": "",
            "_dom_classes": [],
            "_model_name": "OutputModel",
            "outputs": [
              {
                "output_type": "display_data",
                "metadata": {
                  "tags": []
                },
                "image/png": "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\n",
                "text/plain": "<PIL.Image.Image image mode=RGB size=128x98 at 0x7F9374A5FE10>"
              }
            ],
            "_view_module": "@jupyter-widgets/output",
            "_model_module_version": "1.0.0",
            "_view_count": null,
            "_view_module_version": "1.0.0",
            "layout": "IPY_MODEL_493d2842a45948eea9b8223e4ec385d1",
            "_model_module": "@jupyter-widgets/output"
          }
        },
        "493d2842a45948eea9b8223e4ec385d1": {
          "model_module": "@jupyter-widgets/base",
          "model_name": "LayoutModel",
          "state": {
            "_view_name": "LayoutView",
            "grid_template_rows": null,
            "right": null,
            "justify_content": null,
            "_view_module": "@jupyter-widgets/base",
            "overflow": null,
            "_model_module_version": "1.2.0",
            "_view_count": null,
            "flex_flow": null,
            "width": null,
            "min_width": null,
            "border": null,
            "align_items": null,
            "bottom": null,
            "_model_module": "@jupyter-widgets/base",
            "top": null,
            "grid_column": null,
            "overflow_y": null,
            "overflow_x": null,
            "grid_auto_flow": null,
            "grid_area": null,
            "grid_template_columns": null,
            "flex": null,
            "_model_name": "LayoutModel",
            "justify_items": null,
            "grid_row": null,
            "max_height": null,
            "align_content": null,
            "visibility": null,
            "align_self": null,
            "height": null,
            "min_height": null,
            "padding": null,
            "grid_auto_rows": null,
            "grid_gap": null,
            "max_width": null,
            "order": null,
            "_view_module_version": "1.2.0",
            "grid_template_areas": null,
            "object_position": null,
            "object_fit": null,
            "grid_auto_columns": null,
            "margin": null,
            "display": null,
            "left": null
          }
        },
        "91cb1a7474cc4ff49bb034cfba5299bb": {
          "model_module": "@jupyter-widgets/controls",
          "model_name": "LabelModel",
          "state": {
            "_view_name": "LabelView",
            "style": "IPY_MODEL_f09d14a1744f446b8543d873abe586be",
            "_dom_classes": [],
            "description": "",
            "_model_name": "LabelModel",
            "placeholder": "​",
            "_view_module": "@jupyter-widgets/controls",
            "_model_module_version": "1.5.0",
            "value": "Prediction: True; Probability:1.0000",
            "_view_count": null,
            "_view_module_version": "1.5.0",
            "description_tooltip": null,
            "_model_module": "@jupyter-widgets/controls",
            "layout": "IPY_MODEL_3a92011bfa254827bfebfe9cb907ddd6"
          }
        },
        "f09d14a1744f446b8543d873abe586be": {
          "model_module": "@jupyter-widgets/controls",
          "model_name": "DescriptionStyleModel",
          "state": {
            "_view_name": "StyleView",
            "_model_name": "DescriptionStyleModel",
            "description_width": "",
            "_view_module": "@jupyter-widgets/base",
            "_model_module_version": "1.5.0",
            "_view_count": null,
            "_view_module_version": "1.2.0",
            "_model_module": "@jupyter-widgets/controls"
          }
        },
        "3a92011bfa254827bfebfe9cb907ddd6": {
          "model_module": "@jupyter-widgets/base",
          "model_name": "LayoutModel",
          "state": {
            "_view_name": "LayoutView",
            "grid_template_rows": null,
            "right": null,
            "justify_content": null,
            "_view_module": "@jupyter-widgets/base",
            "overflow": null,
            "_model_module_version": "1.2.0",
            "_view_count": null,
            "flex_flow": null,
            "width": null,
            "min_width": null,
            "border": null,
            "align_items": null,
            "bottom": null,
            "_model_module": "@jupyter-widgets/base",
            "top": null,
            "grid_column": null,
            "overflow_y": null,
            "overflow_x": null,
            "grid_auto_flow": null,
            "grid_area": null,
            "grid_template_columns": null,
            "flex": null,
            "_model_name": "LayoutModel",
            "justify_items": null,
            "grid_row": null,
            "max_height": null,
            "align_content": null,
            "visibility": null,
            "align_self": null,
            "height": null,
            "min_height": null,
            "padding": null,
            "grid_auto_rows": null,
            "grid_gap": null,
            "max_width": null,
            "order": null,
            "_view_module_version": "1.2.0",
            "grid_template_areas": null,
            "object_position": null,
            "object_fit": null,
            "grid_auto_columns": null,
            "margin": null,
            "display": null,
            "left": null
          }
        },
        "4f2b1d6a56974e228970e205fb984a82": {
          "model_module": "@jupyter-widgets/controls",
          "model_name": "ButtonModel",
          "state": {
            "_view_name": "ButtonView",
            "style": "IPY_MODEL_409a3f7d4da34612a2f97a1470a36014",
            "_dom_classes": [],
            "description": "Classify",
            "_model_name": "ButtonModel",
            "button_style": "",
            "_view_module": "@jupyter-widgets/controls",
            "_model_module_version": "1.5.0",
            "tooltip": "",
            "_view_count": null,
            "disabled": false,
            "_view_module_version": "1.5.0",
            "layout": "IPY_MODEL_a5f4a3cca5d542e387e60a2055e15298",
            "_model_module": "@jupyter-widgets/controls",
            "icon": ""
          }
        },
        "409a3f7d4da34612a2f97a1470a36014": {
          "model_module": "@jupyter-widgets/controls",
          "model_name": "ButtonStyleModel",
          "state": {
            "_view_name": "StyleView",
            "_model_name": "ButtonStyleModel",
            "_view_module": "@jupyter-widgets/base",
            "_model_module_version": "1.5.0",
            "_view_count": null,
            "button_color": null,
            "font_weight": "",
            "_view_module_version": "1.2.0",
            "_model_module": "@jupyter-widgets/controls"
          }
        },
        "a5f4a3cca5d542e387e60a2055e15298": {
          "model_module": "@jupyter-widgets/base",
          "model_name": "LayoutModel",
          "state": {
            "_view_name": "LayoutView",
            "grid_template_rows": null,
            "right": null,
            "justify_content": null,
            "_view_module": "@jupyter-widgets/base",
            "overflow": null,
            "_model_module_version": "1.2.0",
            "_view_count": null,
            "flex_flow": null,
            "width": null,
            "min_width": null,
            "border": null,
            "align_items": null,
            "bottom": null,
            "_model_module": "@jupyter-widgets/base",
            "top": null,
            "grid_column": null,
            "overflow_y": null,
            "overflow_x": null,
            "grid_auto_flow": null,
            "grid_area": null,
            "grid_template_columns": null,
            "flex": null,
            "_model_name": "LayoutModel",
            "justify_items": null,
            "grid_row": null,
            "max_height": null,
            "align_content": null,
            "visibility": null,
            "align_self": null,
            "height": null,
            "min_height": null,
            "padding": null,
            "grid_auto_rows": null,
            "grid_gap": null,
            "max_width": null,
            "order": null,
            "_view_module_version": "1.2.0",
            "grid_template_areas": null,
            "object_position": null,
            "object_fit": null,
            "grid_auto_columns": null,
            "margin": null,
            "display": null,
            "left": null
          }
        },
        "51249e59bf6c4054b3edff0f538770d7": {
          "model_module": "@jupyter-widgets/controls",
          "model_name": "VBoxModel",
          "state": {
            "_view_name": "VBoxView",
            "_dom_classes": [],
            "_model_name": "VBoxModel",
            "_view_module": "@jupyter-widgets/controls",
            "_model_module_version": "1.5.0",
            "_view_count": null,
            "_view_module_version": "1.5.0",
            "box_style": "",
            "layout": "IPY_MODEL_097fee3e5fdd4275b1a78fcfc80c0cc8",
            "_model_module": "@jupyter-widgets/controls",
            "children": [
              "IPY_MODEL_cf8c99642f5949efa443d6aea05d6448",
              "IPY_MODEL_85ee9d44d66c4e3aa7916049e6c94659",
              "IPY_MODEL_4f2b1d6a56974e228970e205fb984a82",
              "IPY_MODEL_610369a7d98543839ddc59c19e6293ba",
              "IPY_MODEL_47831b903bdb4fa9bc5bb5edc256bc1b"
            ]
          }
        },
        "097fee3e5fdd4275b1a78fcfc80c0cc8": {
          "model_module": "@jupyter-widgets/base",
          "model_name": "LayoutModel",
          "state": {
            "_view_name": "LayoutView",
            "grid_template_rows": null,
            "right": null,
            "justify_content": null,
            "_view_module": "@jupyter-widgets/base",
            "overflow": null,
            "_model_module_version": "1.2.0",
            "_view_count": null,
            "flex_flow": null,
            "width": null,
            "min_width": null,
            "border": null,
            "align_items": null,
            "bottom": null,
            "_model_module": "@jupyter-widgets/base",
            "top": null,
            "grid_column": null,
            "overflow_y": null,
            "overflow_x": null,
            "grid_auto_flow": null,
            "grid_area": null,
            "grid_template_columns": null,
            "flex": null,
            "_model_name": "LayoutModel",
            "justify_items": null,
            "grid_row": null,
            "max_height": null,
            "align_content": null,
            "visibility": null,
            "align_self": null,
            "height": null,
            "min_height": null,
            "padding": null,
            "grid_auto_rows": null,
            "grid_gap": null,
            "max_width": null,
            "order": null,
            "_view_module_version": "1.2.0",
            "grid_template_areas": null,
            "object_position": null,
            "object_fit": null,
            "grid_auto_columns": null,
            "margin": null,
            "display": null,
            "left": null
          }
        },
        "cf8c99642f5949efa443d6aea05d6448": {
          "model_module": "@jupyter-widgets/controls",
          "model_name": "LabelModel",
          "state": {
            "_view_name": "LabelView",
            "style": "IPY_MODEL_26a47db3173040c086048c71339ecf68",
            "_dom_classes": [],
            "description": "",
            "_model_name": "LabelModel",
            "placeholder": "​",
            "_view_module": "@jupyter-widgets/controls",
            "_model_module_version": "1.5.0",
            "value": "Select image",
            "_view_count": null,
            "_view_module_version": "1.5.0",
            "description_tooltip": null,
            "_model_module": "@jupyter-widgets/controls",
            "layout": "IPY_MODEL_cf480d23243c4275bd5543c4cb4d2a73"
          }
        },
        "85ee9d44d66c4e3aa7916049e6c94659": {
          "model_module": "@jupyter-widgets/controls",
          "model_name": "FileUploadModel",
          "state": {
            "_view_name": "FileUploadView",
            "_counter": 2,
            "style": "IPY_MODEL_74af5c56e2a046f28ca31e8ed77f7589",
            "_dom_classes": [],
            "description": "Upload",
            "multiple": false,
            "_model_name": "FileUploadModel",
            "data": [
              null
            ],
            "button_style": "",
            "_view_module": "@jupyter-widgets/controls",
            "_model_module_version": "1.5.0",
            "accept": "",
            "_view_count": null,
            "disabled": false,
            "_view_module_version": "1.5.0",
            "error": "",
            "description_tooltip": null,
            "metadata": [
              {
                "name": "person1685_virus_2903.jpeg",
                "type": "image/jpeg",
                "size": 28813,
                "lastModified": 1604854003949
              }
            ],
            "_model_module": "@jupyter-widgets/controls",
            "layout": "IPY_MODEL_a64cd98ee6e943a69d98a0ca036f6054",
            "icon": "upload"
          }
        },
        "610369a7d98543839ddc59c19e6293ba": {
          "model_module": "@jupyter-widgets/output",
          "model_name": "OutputModel",
          "state": {
            "_view_name": "OutputView",
            "msg_id": "",
            "_dom_classes": [],
            "_model_name": "OutputModel",
            "outputs": [
              {
                "output_type": "display_data",
                "metadata": {
                  "tags": []
                },
                "image/png": "iVBORw0KGgoAAAANSUhEUgAAAIAAAABtCAIAAADmhv7AAAA4wUlEQVR4nJ2dx5MdWVr2T9rrfVlJ7dTdM90zgQkiIJhgwQoC/lSWLFmxJ7ADHcyMGqnlyty6VdfbdN/ip/fRqZLoHr5cKEpV92aec173vDaDv/3bvx0MBvV6PY7jOI6DIEiS5Oc//3kURUVRVFXlnHPOlWXJz/P5fLvdLhaLyWQSRVGz2UySJAzDqqqqqkrTtFarxXHMh8uydM5VVZVlmXMuDMMkSbizbhtFURRFQRAEQcAvgyCoqoqnB0FQr9f5VlmWZVk2m81ms1kURZ7n/LtarfI8L8sySZJer9dsNuM4brfbWZYtFos8z1neZrMpiiIMQ+2FpxRFkWUZH9PCdrtdnud5nldVVavV6vU6z2KR2kgUReyCv5Zl2Wg00jQty7LVaqVpyh2yLCuKIoqiJEkmk8nNzc1XX331q1/96s///M9j7sj+2XCz2eS/aZqyRFbD6uM4zvN8NpvFcQzZ+HqtVqvVahylthfHsZZYlmUYhuw/CIIwDNlPmqbcJwzDLMsOhwNfhyGgELsNgmC/3+/3+yAIoijiK845/prnubOrLMvpdJrneRRF7GK73cIEgXdpJfq6TiNNU60ksisIAg60LEs+zxo4JbbGfhuNRhzH4uAkSdiLc+5wOMAB/BtDT9ZdVVUYho1GoygKbn04HNbrNd90zsFT0+k0juM0TZGYer0O03HHKIrYEpvkh7Issyxjw2wPtup0Opw+e3DOFUVxOBzY/H6/PxwOOoJ6vd7v97fb7Xq93u/3kBNKiHOdc9A1DMM0TXl6URS1Wo0f+EqSJPxV4stzd7vder3OsiyO42azyYIllBwlx8p+OVltDQZFnjjPKIqyLIMPIF5RFNzzHZ/5sg/TRVF0OBz4PT8g/lAYCrXbbb5fq9WQtTAM2SGfYTVQl/uz1V6v1263u91uvV6HYJldOsokSbrdblEU+/0eysE1zrk0Tfv9/u3trdROWZbL5ZIvHg6HWq0WhmGz2ez3+0EQ7HY7CW673ebQ2aYYlhUmSSJFt1qtrq6uUF86WRYQx7EO/XA4cJqQv9Vqwf61Wg2aQUi+yFMkZ6JoLFngD6wgy7IkSaSFpCt3u12tVoOSjUajLEsWFEURKkiPyfM8yzKWHoZhvV4fDAadTgdZ4YawapIkWkCe5+yK3/B02J9trFarqqo43DzP0Yd8GDlrt9utVuv4+DjPc5Q+zC5lws65+K8UOjJdq9UGg8Hjx493u91yuVytVkghW+O5h8NhtVrxRIxHmqZJksAojUaDz6BUkTnMAL/0VU4suye5YGXSsBLD/X4Po/Evmqqqqnq9rjumadrpdGQ8oGgURY1Go9FoQOyyLGu1GgzOPVl9FEX7/Z6lHw4HSMhi4IZGoxFFESus1+uoKdYDV0ZR1G632+12WZbr9Zo/yTKJwzjNWq3WaDQwRYgg6w/DcL/fI7KdTqfRaOz3e6lHRHa321VV5asjHpGmKb+BFbD8LLgsy8PhsN/v4Uvhmpg/iwaQiwOFwrBqnucc9HQ6hTwQhv3wFT6p/0oPVlUFa0D8Wq02mUxevny53+87nQ7HJx0Np2iV0Kler6NP2u02q8JcyWhDuX6/DxuicDDa7EWCXhRFatdutzscDlmW7fd77EqSJCcnJycnJ6wBBt/tdr4lEATQCcR25XkOKyC+HCbnjuiI0u8lQECTCzzAR8WJsGeWZavVCu7wzYiv4/gBvkYJooLRYGmaBkFwcXFxeXkZBMFwOMQwpGk6n8+XyyUqPkkSYUTUt/bJfaQNeBy/F8SqqkraCSGQCUHjFUWxWq2yLKvVas1ms16vo0IPh8N8Pr+8vNxsNtJySCTKttlsYgZk4dg+PFSWJagBG4n48kSJssDkewmAxyUmXJwyxwclZehRArLbgpjSFSwI/cN9YGRMyGKx2Gw26Ao8hiRJdrtdGIaj0QhQ32g02Gqz2WQNOkrUlP/oer0uAMrRCFCxKSw5dIKKh8Nhu92yhTzPO51Op9PZbrd8ZmEXZJZ6qNVqWZahZAQLdRp8EmtXFMV8Pm80GrAvvxff8MN7GKrjkxnk7Ni5rLwMHewJa2AndFOwwWq1ks2EbBBczItebjQarVar2WymaXp7e4vWBgKuVqtWq9Xv9yEPyme1WgEw4jhGsYLHUFZJkqCUORFYgWWjnTn6KIq22+1ms/GB8mazabfbg8Fgu91iUReLhRYspAB1UUpIjH4WMaQGiqLYbrdIPDYDRQQ3CNSUZfkORUgIhF7YoRSo5ENOrwggZM3jfXJCAFk/tpEkSb/fbzQa9Xod4FGv129ububzOcKOwMoys3Nhp2azGYYhMFQ2gIfCHKzEOQfkAH2yBnARf2KprVYL5xkLv91uOdDtdpskCepXSMyXM3nm0sPiA+l3TjLP8+12i3Yq719FUcQihe6FzcFx0K3ZpAw1SiOwy5mvpN9I7mQwML9cBDDY4dXV1Xg8vr6+nk6nGCjus1gsACGNRgMkgynOsqzValVVxa74PHSt1+vELbDJOjJ2AXaEBxXGwAKxKVxCtJOCE4gUP8jgBV7URGxXFAXODauCk+TfwSi73U4M+s6x4ElC03xzu92iysXp6J/KQjQ+sEMm+JiWxc+wCeTsdDp8C/1TluXV1dXV1dVsNttsNqvVarvdwr+I8HK5FAYDzgNnBUPZIcyOTqjX62BwThMO4ER2u91+v18sFrvdDtEUfMSu7Ha7Xq83HA77/T7ywVf4pJQMhlRuhwA3n9FiJJS4IwBZ2MIZJHungrbbrSRAthQhhQxZlrEZUShN00ajEQQBHMopc3dtiYVCiW6322w29fvNZvPy5cv1ej2fz3e73W6322w2WiVgQzE7ueKwDwTQNsSYBJT0UD7GvsCXu91uu92uVqvlcgkbYo1QPp1Op9/vAz2RA+xTWZYsDybwoyx5nrN3X4VAY5YHW/PE9XrNwuQBvCcAC+Jh7EoQkw+t12uglcjbaDSGw6G0DRpWsQ4YAWq1Wq1ut6vA4Xa7vbq6mk6neJhocNkoTh9TfHZ2hvmF0Q6HA4e7WCxA3DpfyMBS+Q3r54YcfZZl2+0WFcQTgQOc0Xq9Xq1Wt7e3xFm73e5wOOz1egTUut3uyclJVVXr9Xq5XApcEvLkQBDcdru9Wq0kYfv9fjqdwmT4AdIQ8NA7aAf3YankRMDUlQU1cW2azWatVuv3+8PhsNls4rywecAG8ggoqqqq2+32ej3nXK/X2263P/zww+3t7Xq9BocACVB9WDZ0McBxu92ORqNarYaVdl4EWDRmS/CjfpAEY6hg9s1ms91u0XWgYfQP1E2SBPLAEJvNZjqdEjs5OTk5Pj4mMIUrut1u5/O5kIzgRqfTgQbn5+fz+fzu7o5twh/6mNQ4N8yyLD4cDsvl8uTkZDAYNBoN1A6yJvjIQnu93tnZWb1edxZqlnF25lZwiHgPBKdQ95PJZLFYLJfL+XzOuVcW8GBxioAKriyXS/gRrcXHZG8Iq/EbZzGywAI7zjkpNPyM9XoNuISFWTNOFjZDnhRuebvd5v6r1Wo6nZ6enuIrAPMXi4W4k103Gg3+C7BG5zjPP2VtD9Bmnufxfr/fbDZ/9Vd/tVqt0jQdjUb/9E//5Dt7VVURRCM0HVl4OU3TZrOp31Tmj/AYxCWKovV6PZlMZrMZHBQEATpNgRHAIngJcA3LY4SOjo6AN+gT9Du+AhsQ8kNMIQOYDy2/3+9xsyMLTSOs7ELYWn8SLkJcNpvNfD6fTqfn5+dsil/CxSwVQdd/Z7NZEAQnJydEbtB4rFPRmjzPUY8xB1GW5cXFxfHxcRiGs9kMekI69ABKkA33ej1AofJEkJrVsx9kOY7j1Wq1Wq2EE0DrsADCAcPiBGEngYnr9bqqqlqtdnZ2xtJxerGT+GWSbsiDIiJ9BJEwg1gO9DULRlOHYTgYDFqtljShAMXhcEjTlDAUiCsIAnz1ynIenCPYSYb95ubm7u5O0QuWKqeap6NmsQ0xOpG7/9Ef/dHf/d3fgeQeaBjRbTqdnpyc9Ho9jjIMw/F4jBZGiuEj4BOxB+1ZkX3YDSsEXdfrtfxMFAswCTEiVBdajiWKolarRUijtBhfkiTSA9vt9vb2drvdVlUFythsNvKZm80m8ooClNlEvJTMAhTJJoGmhsMhKABFjbLa7/dRFB0fH//www/z+byyy/euZDO4Lagsy7J3SH+xWPzDP/zDxcXF3/zN3/zjP/5j4WVtsNeydWVZzmazTz/99M2bN1VVjUYjiCn25yAajcZmsxmPx5vNBj2LwuHDPJ6VQQkMLHoD9Y0VXa/X4/EYTLLb7TqdTuDF+EpLAUIDbAOoCYuyWCyur6/v7u44SvbVarVgT0xUu90GesJwMApGDg5DesqyXC6XwFPBcfhgtVodHR0Ry1NYlFUVFlWFV/gv6gFJfZeQ+fu///vtdvvs2bMsyzabDZY2sFAU2g32qdVqu91uPp83m83xeEz8cjqdlmUJO8BWm81msVjAttvtdjqdAtFgWIXPlLSRy8oZsX+kEx3FgbIA/pR7WVyJAq4DMHe5XJLYYo94Z/IhULycRb1eRw7a7TYuuowEREU4OHpMiAJzWZbhTNze3gaWTOYzsJSemFuqQ+A4z/OYPb9584Z063g87na7aMDA0tZsANmHVa+vrx8/fgzyRSGg7zjc+XwO5gEIb7dbxbl8wI4GPxwO7XYbHUXEkW37wJmVQDAfV+iSl4eQcTdUx263g9nRANzZlxtEilODHuB6xYhU6sFtl8vlcDgcjUb1eh3UVBTF3d0deCSyOKD0vphYyVdo8M4RcxbWl3TwoQ8jcZGFXtnG7e1tq9WCjOfn5/v9HoRwfX19dXV1c3OzXC4hOEytQwwtvyp9xbk75/CBlYRIkqTVainjxqlJN0aWUNQ5+meKwYDlH4SkOB0/GsEi0f5yU/f7PfyBqkFZgYkbjQZuyuFwGA6H0+kUb7m6n0xkMXq6TwM5z7E8Y/juHTayAKQf3wi9yDNQLM/zZrPZ6/WQ0DAMX7169eLFC+KahVe6I8eVQBCOt5Qyz/XFjrgCeatWqyX+gAOU30DM/UNnt3yg0WhQ8kToUKQVk+JIbjYbRdOk6NBCZVkS8lsul9Rw9Pv9qqra7TaZwW63O51OFRBjeXJNZBelzXJLionMsQy0fiVsXln6TWKuYgICfsBbNHKapjc3NwA+GRwF48IwBKJEFpRerVZ8kpOq1+vr9Zqd6w6KvUQW5afuIQgCvBawKR/G+gnpdjodBSoUWJaFJ6yERcVrOxwO1Hshi+yRh1ZVhQQo5YvCybJsNBopAAUfYNXIebBUqRBO348dvZcAQSXxrO/IScMq9Ap50Ll8EpQGE0VRhEPIM+R8CoQJXKHiARiEsfr9vhQFDk5odTulBWjJlHGyXCwyTVPYGQgv8CYMHoYhZWfobjYFW/T7fbA1gaPQMmg6AVgKWgKa7+7u4AAAnjjYR8Y+kOFsdfQsKdYRlFauldvFWcvpkD0QNyENs9ms0+mAOur1OkBIWgX9k1vahxVg6zB3pDzZOe4ezgu81mw2h8OhQKQETmVFlZclD6y8p7JwVq1WW61WeEZS0MgiqrxWq+FgQxWKzFqtllSHDA9cVavVkNQgCAguyTsrLV8ioffzaD55dNTvJEAnK2EpLFnB0chQAwfZYWBJif1+r5QThpQFyaChcKmRglNw5SsvPpUkSbfbXa1WiVXxATmIZNTrdaqdiNnhQygzpRQYvJ9ZJRq7IHzmVy3sdjsWPJvNQEq+86VzzC26zneVG+dk5/M53NPtdnXEMpmVlSE90EIfnvM9I+xTplLKxsofkaDqfqqSiFCe58I8YA/YH18Dc116yWGOuNlsLpdLUU51UbllhzhiYgzyBvQvpCUyURpIfRdijGOsFMGG2WyGZo+tiLHRaFBhJww6m80wVHK2OXe+WFl+EdiGiyPD0Gg0CHDBkWhm9kshGv/98PTfS0DppcN0+oVVHUkFCUKwpn6/X6/Xq6oinxVF0X6/J8NeluV6vYYApQVKlW2WaPd6PcVhSNrAkujrWq3GclkrPCgMKvsst8BZMo54JHq82+12u92LiwsMOPdcLBYUVco3FDmBTIS/pNY4aNQXC1ZS/nA4UPQ3GAwuLi5UtMqJNRoNwt0SEXbkLOn/ERX04L/Ivsjj7BqNRp1OJ7PyRwoX8A9QQZWVh5SWg4282p5+v6+dEyhttVrkTDi+drvd6XRgIlQErBBZEBtFIbQmMMoF3kX1j0YjCooxvOiQ3W43Go0oSUL7I7Loeuccig48imTze7bcbrfBAvyXQ/j888+///57+T3OOWJ5CLqOWhz/XgL0KxGgtDoUWKa0DCdKDWNL2mQymbx9+/bm5maz2SAcin7wg1yByMqSnZfXBolDhtKKnEi7O+fIqYFqttstvy+s7Ee8VloiTA5Bq9Vi8awHX8lZ3Q0SycGdnp4Syl4sFkhhEARkIFDiCC58Mx6PcdlIKBVF0Wq1iqIYDAZv376t1Wqj0eji4gL5loqWnyj9836/PmV8W+Hu13zxX22Y4AF+0+Xl5WQyAfYpQM+iubAKkh7F2lRd2uv1sixjV0g3uQfITPmi4AR7U/1Ecr89hA9IUaB/wfuEOgAwzrlarcYpEx/d7/etVuvo6AgHDaVRVRW1MzyLQw+tnJQtr9frH374gVobcGBgiTnVxfgwUof5HgX5xKm8XCv6R767L/WRJUInk0lZlp1OB2ADkTqdTm41HVhmX6rq9TrVCYJ6zlK42AyJjuqCxLPsrd1uE6QDFyL+/lKdZaDQ5ly4He80bxwj2dBgOBwCnBRMRnRwDggoBUFAuRwaDLTKHaIoury8pNKS2F9gvQL7/Z4A30cP+SMwVLaCS6FXwdvA8vphGCpKHkXRYDBYLpeFlYNTnANoq6weprQo23w+h3eyLOt2u5gQcBSYBPjIbokVv1uu5byIfPiwypkPjLsbWOUhx1eW5XQ6herNZnMwGGAMrq+vicu3Wi1SF9wZPzmOY3IJnMNgMIDM3JnbAi7m8zlxp7u7OwXN2Dvlp86LOHyEADIDiooQXSDnFXkVkGx7NpsRA6B6B5yepulisQCQ4QnLn0KDAyhLr6JPiTqMB26qCia4bm9vyVcTcAVUoJT88FxpJVNov9I8SudcmqZkFPxiabgN3QjIAUyv12s8NbQlzhrJu8gqErEuoRUkwD2EJmVHIXBVVXEc49nJK5YFrvz+AN8ASKVGVo/vCzUWaTqd9vt9jAzR7TiO0dfr9ZqQAHldmEURC4ifWI1pFEXn5+c4axzfer12zvmpEnl2QuX+uVdeKU1lDmNhPX7oFlxc0CfMQXqHwPLR0dF6vX7y5Ml4PJ7P5+ACJHuz2fR6PQmiLF9giXHVaqxWKxVQCW1zXMA5LU+H/BEJ8AUEsvsYQ6CbBWFsS6+RSmgHO0byS2gdplCwiFI4rHRg5fNhGHa7XdU0RFZUi9aOrRo19upQfBUqcKXHVVUVhuHJycnnn3+epil28uzsLAiCdrt9enqKQSZuut1ul8slxGZVzjkKGrkhzpcWQ2SfUNJwOEzTdDqdYvMCr2oRb0DM4ayx8iEKerATlWKHFt3W3gaDQbfbRduUVr/FQtWPyEIxFTK57DYMQwiDawPgkbpIraOo1+v5JfzyvEKrPXlw4pKDwKJDlQWF4jh++vRpFEU3NzecbBRFFP8QXEnTdDKZEA3k/hx6ak2W6GQCKjAQMkpFEGoWVXl9fT2bzSqvRk0+hA9GHtqAwDJf/IvbiTHw6emcOzo6arfb2Kt2u/369evLy0tSeqXnRWtjCksBjZzlF9GMKF8Ol+yCXE0UGuyDVmGpilf7gZfKkkX8Hv2p2A48Li8hsUre0JJ0t7e3t7e3glJVVVFR6ZxTRTvWBcCGpmo2m8fHx59++illqcjEp59+WhTF3d1d6RUb4pf47M71HgU5D4+W1sYVWxGg5JEGxN1u1+12nXMvX7588+aNil7J2SoJBQMChAUlK3PEKQEH0qFV4PTCyop4KIZXmkp+gNBaaaEOALtPFSjhrFS91+sdHR09e/aMs+t0OpPJZDqdtttt3DRMhfOQlXOu1WphYInrqTIch4Dyi9Vq1e12+/3+69evgyA4Ozu7vb2tvPwMQSHf1n7ECOsHzL0+KsI45waDARqm1+v9+te/vr6+ls/FEoGkFK4KvIIvkQO5S51Oh8AkZQpKFVGo47zwjmwpZ6rOGREgsOpE1uwH5QnXgCaLoiCrdXV1VRQFFRvL5XI2m1GVjsABsQgcwTEgY9AUJgoMCvQoioJwwKefftrtdu/u7tBLnAyrImb3oUt8TwXpD6m1dgBOFI8LLDVBAosdyp4kSULjkXSOsz4nlAAYdLlcLpdLOK6qKgIPxH92ux1FR3I4iQSEVhvCiYTWOObuByR8HhJt8FehFvbj8ePHRVHc3Nw4q6LVOnEXlIBCOnECkE4+iVirDhNXNIqiN2/enJ6eqkSew9TRAbIfmIF7KEjmFzUSWn2982ocsywjDjGfz7Ms6/V6hFDAas7sOyyPfwA7Hw6HxWKBtFL1Jkarqgo1tV6vr6+vwRWKfRLJQm4I4Ii7wU5Sd3KDw4/FzyPr12g2m2dnZ2VZvn79erPZkHNGGtgsFliQD31I1bQS/aWViXQ6HYrjsiybzWYytg8CVpgBVPpH/AAf7LN5H6tK5eHEdjqdqqoA+zg4Nzc3uLiZ1/BOziuxHkHn3HQ6VYxF1imz2vFut9tqtVQVgCeF6RZ1lTQPvIoP500F8TWsXLPKC5fy+Xa7fXZ2NpvNptNpGIbj8RjsKEUBqkFiNpsNSOH6+jrPc2QUNs/znCo0EKpzjiZDFedKhQLcBUYFVd6XpWgnCm/xCd2Cu1D2Tra20+kgv4PBgLgCVJGKhCUpyaLUOQgCNqbbImr7/X61WvX7fYWuyrLkUOh4PhwOuEJK5IoAD4RdZAgtOs1//QQvGOnrr7+u1+tv3ryBxxW7lZ7BQxb+6fV64/H48vLy9vaWJonz8/PBYBBY+AC3uSzL2Wwmzi4trQtC8X9ffhgLggukiwKv8EZaCE0dhuHNzQ1eFaFplaEVdpVWYFOWJWzOzqn/gbvhFGEhTJ9Uc2ojAJAV38kUf1Ve4CWw7oTS+iOlsrRTZ21l7Xb7iy++ANoHNvIB4KSRCnvrcp3NZijbytxPIFxRFKenp+r9J6xELYz4QxfI25fRhwTg8aUXdxP7O2sLoJF8vV7DHZPJ5OrqCh4HXJaWTYORhYiCIEC84O7cCn5Lqxt0VsAcWUsexaCx1/btGy2tUOyijUTWzF55WDDwcgaUriDEWZZNJhNQFmABQdzv96PRiM0SbqGbHGAaBAEO/3K5fPTo0fn5eRRFi8UiSZLRaETsSytkwb6b+U7H+vuprNNT+4mtNEMbhveJ+2+321evXt3d3RHSyW2eEW4Lhc2RTXogS4xtjKzfWnEVTo1DD6wvF5klf1tYn155P3HkvHCQHucrpdKicoEXC6lsJFFVVaenp3Ecv3z5kpIALnhiNBqhf8hyhxZc4ymIZpZlq9Xq+fPnNzc3X3/99eeff45GOjs7wxJI5gAC2JiPS4CzeTgy34q9cEa9Xo+nnpycPHv27F//9V9BJrCtwrmDwcA5h/AqHaZyNgUkWEFgtV9hGMLvpWXkkUWgbVEUAFxfuTuvi5bVVve7OZ1FpGmPUXzCeUVQnGy328UU93o9/FBSpPV6nYY44R/4A0YOw5AGNzKyZFK//fbbi4uLbreLZn6g+uDLh7EgziKyVtjKwJMuQa48z3ELnz17llsNLOVKQObEOoScxT4FpcjPqDS+sgBnZQVoQn5UmpIRQzPo1OR8BBYffGCxnBeaLqxNt7BhEpXh7MBGQcDjtVrt8ePH33///atXrzgTeJxOblJpahNCjIj+ttvtu7s7zSx69uzZz372M9gUgyHmlj0ghfAeBfkqVQL+gP2djcWQklHi1zmHkFKfgjMcWqMPKlKHXnxQqMu6I8sjin+x9kz+Cb2G6dCbuxB6nkd5v1edp6geRB9jYWRDC+t51lyHR48evX79Gt1dluXt7e3d3d3NzQ0VCAhK7HVQUUKAi4CnTe9ivV5HD0vB6oSRePHlPQlwnjOpS1ypvyrmnKYp/SGr1YriHzAMphjXRvVxEixF1WWroygaDofD4TC08pCqqtgAAFx1Qbk1ST/QnKWXStJulTf2YRLKEC5GC6lbBGOTJMnr16+pNQdtHw6Hu7s7eh+Pjo6gH+Yqt/E8SZKcnp7yaFRCaN1agblQAsFSnvdsgPNSxrJXPgzl1ujB/X7/ySefTKdTTVjj8yTnwAbcGd2FtiHi7zOjhI/AZ2BtQ0EQMPsKjfmOWeL3IwZ90ZbIhl42OLOxPIhFbmMXIDDomYskAVyP0uh0Ojc3NxwfQdk0TWez2Ww2W6/XnU4Hw3Z8fAwAZRm4pY8ePUL1IX/u/hV6JafOn5jlC4HzxnP5pHNWT4nmoeKM8FYQBIvFgqkPiq8pT8s+ybHAyJG1jgieKuNIAApxIZ2deq3CoRdR8HWmrypFmMi6MFKreq+sXAN7jl3F8UZeUYbE76guKcuS6S3D4fDy8hJ1ivg+f/58MpmcnZ2dnZ0BtRFWjZciBBvczxr5slj4hVmS38DqHnxFxG84xMFgsFgsVquV6gAAYarMBjizJucBKueciv1RqbBnr9cbjUb4PsvlMrAuhMB6/wJr6vPZR0DIZxTtxadKaJVu2Jjcqskjb3xZZJOqwL4UPcirH4/HoZW2Y1fAI4fDgd7/09PTb7755vj4mKginZ0Hm30YeJkASWr1IBhXeTl7d38mlmhQWdh9s9kAJK6urv7rv/6L0ZaB9XbhBEIDLDkQIrLpjeo/aLfbo9HoyZMnnDK9Zs45ErZStVqJL6m+ID9Yti/HyJ+W5zyYV5lP6ww4+T5gFEUvXrwg+IglIFTF5Zsl59yrV692u91f//Vfa1YWRPX1jyghgbiHgtgGd1fVv/+FsixRLAyS2Ww233333Ww2ww4X1lgZWkWqBoJKZeMZkE1L0xQnq9frAb0FZpQvU7d3aVNEKgs25DatSISJvXpFRCe0sa5+dqgsS7FCZG0g0k4Yj9zmrfT7ffqW1b5KoBSQvbfJbIH56s+fPz86OiJhlWXZ0dERxQliHSCJH779SGVcYY2sKt4LLcYL2ALq/Md//AdTE1RR02q15LsebPgGtIm8sVVJkpydnQlNkgOhbRPJKMuy3+93Oh01zguGljY9NPSGC/pqs7o/LcRXwWJAjlhOj2qqif0VXk85umg+n6t8hj0quEK8gZq7TqezWCyePXv2q1/9Ks/z6XQKv5JoUra8sqAhj35PAOHiyitexN1gq/SCEY/9t3/7N8qw4MTPP/+c/7JKgDCxHVjGGXQJw5Dubc3/w3uczWa0ZeN5yZdmVc7CJOi90hu46msbHbGP/TWyA+WbWDc5/OtsApazocJgPBwaaFBZJDWzoQOSaUpXcdPwq8fj8cXFxRdffKFibGoSdPQ6fRDwQxWkpbv72LSqKlJxhCrfvn0LhYGPaGSCQviHdLmweUAIhWkQ1Vk1Cgrt5cuX2ANaZauqotBMhUCxVxeNChIueoAx2KEyEIrf+a4cpp4IhCrdILAcFGdRbozzxcXF2dkZynM6nTKDh/owIJ+S4WVZvnr16rPPPouiaLfbUfhVeqNldeFUPzTCCiPLJa6sSAJ9QjKSY9VkEAjQ7XZ5JLNhqLMURel5wz7TxiTdvd1uSZE7i14UNh6W4xbTKRVVWhuQzt3dD6g4rxDah6fSUTubHgYwU9pO3jLfYhnffffds2fPjo+Pha3pjcCL5uu4pVVVXV9f08ZEK9kDJe+s3ePdEAvfTOf3u8iUj2QdpSUraEnIsgzFrfQ9fPHixYu7u7vKom+0OxPkQqJB+s6bSk7Mi3NfLpdEgdAnUv2JDQWMvOEsPkwIPB8t8HqG/It7SixKixXSKYZ1yazdjl0752q12unp6W9+85u3b9+S06eA7pNPPtE86tIS9ES5qZygMCfw3MbQorMUDI7H43sEKGySvi5fCPhNURSEfe7u7pxzVBfTMk91kIZyBEFAcYDmvoQ2UoNNcu6oNefcZDLZbrc3Nzfn5+fMGlLUVzbcd01YmH4WAXwgJMcq8KIXpY2xC72B48qICdhUBuTjOO73+3R5kAznT7REdDqdTz75hEINotNnZ2dpmiLx1f0MMExGzSs55IeliTioUkSS4szmY1AdpuBls9mczWZv377VoTvnhsPhwWZw41gpO6HqKKQBpA92pkKErF5i4+WFcKQVpbLlGPuU0EZ8+Yi8lAY6ikIY9KHKOICnmb1mQCktPIOzs7O9zZTGEyqKgmAwntf5+TnnRul8YR3twmCQAYTpPnTEuEQc0UDWDM0ThuF2u8W+73a7Fy9eXF9fHw4H5rgIbFB0Dk4F/4KsS/O3G43G0dFRHMej0ajdbq/Xa9rkGEYklQjs0QZkq3xmL720V2Bx1sob6RfZqCbWVlq8CzlIrAmp8oZ48RW6ixC++Xwuvg4tkIc54UzH4/Evf/lL5puRmJxOp3xex63Yn1TiQwKIqiKD5IhafnROr9e7uLj4zW9+wxE751arFbUxic1jwq1HyTabTUqdiWeE1sSBBBwOB6YbMO2QhJ+cBj8Gx5lCRfGULwGRjRHHzKDHc5tB5FuI0IqXHjhTlZW3CPImNrKrKIq3b99ypkEQsGUWwGCtPM//4i/+otPpYPOazSbdV5XXq/2gYOIhASp7b0XmDW2uLFnGvZrN5s3NzZs3b8jhSUUww6b0YrBK77FDhACXEr1MNxLTCPm9YA8VCSqHKqy5FTVY2LswlOGSOgrux98V5AktZSYfEDZP7IUMoQ2AV9qLrxBab7fbvFSAMnTcRjwe1AZ9O//93//9l3/5l9yq0+lcXFw4g2d4GNRE/a8EcDY4QdZYIXt0Tr1en81mL168aNjwfWeJdYjBEQdBsLcG/siqCqUfOSbCvDxLNfuoO6bgcP/YWpQE/yGnAL50kXYVePMU6J4o7V00zsrocysGiKztQqqJnzPvxUPkAGjpJno6HA6LolgsFqpQD21uwNXV1c9//nMghvRhYV3j0j//KwFKK+fL7R0hgAQ2MxwOv/vuO0a2NZvN6XSKqALI5PSqtpugEKdPloNjZSdaDac/Ho9RPkmSYANLyxzI2PqWOTCc6jxHLPDGHFH1JTWVW/u/vJDS5pMUVlTCnVUlF1nTPYqo0+kQGSU4Sn24cw6+hmz0zSlOJfY/2OBS/7Q/QgAOWmksdB+Repw99PV+v+/1euv1mlRwacOT2UZscxfJfogxD4eDZlDGcYzDwkDC+Xw+GAxAF4Glt5y9lMdZlGZv86KD+0l5dz/MGVh/TukNKVIIj5gu6WIoXXn+WmkNzD52DMOQ0GEQBPieEIYAUa/XY7ACCHU8Hj9+/Jg6KN0E/VPcr6z5CAGcjd0t7N1YZVkSRsbyCGLSwXt3d4cMchVWj4V9c84hd3JAnHMkAxgjSik1XhuQnwWglGEcbImAR2A+qjNYKdbhh9Ca9yovDCc5cM5xWJgQ55yKlJw3Mw2cKiRS2DShdrvNLLzARhvxOAIz/P7q6or4GPkrtD9BIS3yxwjAwxSZqCwIDPE5msFgAIiu2bwrLA9kwNMriuLy8hLkI85KbD7fbDZL05TJoPSBApwO9loRLHBgTdI1b/CF7uYvO/CSd/qNzIOv0CToBA0JUolsug/srOgA9CBCHscxRQhCAUDPJ0+exHGMs5ZZ4T5WGr3y4Kg/TgA8sg/DEkEQELOkgpzzYmqU3BMEbbfbNRqNu7s7Fg2kCWwupE58OBweHx9DVDDrfr+n8rJhY8Fje1USl9BL5ZVDB54brE/qN9KHnJecXlBD5r3gTFvG+XJW3SR1hAJQOxBg2lnTnHMODILjWdiMIwRanYq6Kj8n/OAPoKDSuxSoUHQBXFiv13u93mazub291VTufr+f5/lisUjTtN/vZ9Z5gdN7e3sbxzGBXG7LuaBbOTtVKeNgi6HEcSil0gsa+tZYqjawUWaB1+WZ2FwuXF9MLmEcBk2D1qhKByXnVuPmnIuiaDKZrNfro6MjAjOYNJLYghiVxTGlwR4YgB+TgMKSn9qS4BDDWmJ7pRVVHhcXF9Q/7W16H0kPvoiHRXs0VaTOOSh0dHREAtZZ9zNJzcjK5aRSEhu1cbC3ZogMwj/ODIBkIrbXHTlvsn9oRYaVlRoKYnGaBK+okaYfFA6Q08D5TKfTNE1Xq9Xp6Smel7M322TWUSuMm9tcmJ8mgLOMgbtff8nDShvetbdXIvB+NSIHiY0iJq6Q5znN/MgBQ+WwJa1Wi+GP9PwfbNxvYG//iaxNQxYehoLA0f2+ycDaxyqLKCh4ldnALZ2yv9ODvaIAZU1wgqyqloRwoMR8VcZ3wzC8uLigJjO2imCye7m910Kw/vclgCww/60sIZXnOWVfu91uOp1Op9PKmwmy3++lFnG+UJfofaE3/KxOp6MZpaX11QRBIHoMh0OFj0IbRRjcbwcrvQwSlyyBYCtzdGCRyqpOI6si0aDQwiuvk5cn/iUCRm83ijS1d1Wi/W9vb6Mo+vLLL/GZ9vt9t9utbHqCrxV1/a82wJkWqrzsGHNZMKTz+fy3v/2tEiPwIymtMAwZH47Kq9frx8fHlJM6Q0o4bpT54aAhNNfX1+A8wEYcx1SiBV7qUYFGaZ4PnWGheBpG5NCIAVNrwsUIZ/bCQW1W0STlipEktU8x7kyuABGX+Xz+8uXLX/ziF0mSMM+4ul83/+E5/4QECEs452BG/JdXr14BeElJAtVje0WX0q0k1pGYg71bUV4lXgXDxUtzO2HY0sK2qm2KvFlD8ptKr5G/8irUQ5uncbAXF7Ed5IYT5/O51Uzio4AUQm/qCqvCoqLQyJOrsxzBxRvY7/fj8Xg0Gn355ZeqkRUB3P1mpJ8ggBbN90OrQgjD8Pnz5xBfJfM8BlmO74/5yu0tNgpJoj05XJpDybXiZBKfoP1BSaHYG4LqM3LlRbVK85yRSw4UgOu88QysIbe2HNxyIaU8z0nJKRddeq96UDgvjmPK/xeLBfWTvra4uLhgrjNwCH37UfYvP8wH6KrMBXdeqWiSJNfX19TaO6+b0NmAL2UTQT6hjbIFHcH4EnlkJU3T7Xbb6/WUx6ckX7FrggcE+Jz33qbKS8743lZlvX97e0WKIJPzvEUfYTsrWKss1AG0o7EU4ZO3zFcOhwMwGuHgnnx3tVq9evXqj//4j8F7Qge+h6hD/jECZNY66wwCZlk2Ho8jb2o/QI0ddrtdOn6EDfBZAhvJSeoVfcXUd/IEHB8exvn5Oa0N3W6XbAGJKrlgleUUi/spAd8AFFYl9sAp4+Cw+WghQSCih5UF7pGnxWKBmQVGo3WRWlZFZ2ee5zhouY3purq6oicONBVarf+H5/y/EsB5ZiCw4Djz7QS0Ba2oZA7DEF0PUiQExJQpDNrt7W1RFFQ/gCi63e7p6angNl3OcBwdk5G9n1JYKPgg3qD/BpaZ2NsbAwN7XzF7EYgs7C1K6/VavnFmM0FLGywlH03xeVkmP8obx/FgMJhMJvj8RVHsdrurq6tHjx7JqAgy+broxyTAWZFEYWNjSMvBpzp68rqBZVBVGn+wIf6BvUKgLEtEcjgccugMV3DerAH4HcaPbVaqjLDiM4XXPu68qnpp88qbViCHgF2wcuecxhzl9qI4foYeoVXsLpfLMAwpIyuKgnf6kLHA6QltpMlwOGSYMaJ2eXkJRcVSD/yPnyZAYdFQ+BeYRVAM/UvnOEVOgEXccQyvIlz0rsLsp6enR0dHgb3uO7L36XDchMYUhBCIzq3sW6sqrFxOGpI1QydChHyl9IaXO+t7VcgPI0/kChZRgKvdbpNwhfEpLNxsNrPZbDKZsEjiwZG9p/b4+FhDMAF4VA3poR+agR8jgLOIbs2GlAqNEdVJkoSpwIH1ipA0Zrg4wttut4+PjweDwfHxsV4gHHuvBkPPwCn4esS0pW0im9oO+0MwIhDh/Z4vZzFq5FVAXgZW8Su+3ul00OC4LNyE0UCaWMebopy9XVG8BV0Xi8VoNFIjP8CBved5fnV1dXZ25uwtY+ISXT+GgpwH8mA9qZ00Tc/Oznb2gjh5mGmazufz8XjM0Kk0TR89etTv97FU5+fn0Kler9MyD6/hQlc23C7wei7k02o9HIpMcfVBLqyy4idneFSgyDmnPgC1GeU26nhnI6VIKBWWhsOXdM7t9/tWq8WATsJBs9mML1JMT0cxQQvSHkyACixdqFJ7/4R/QgJKq2FSrIbb7WxOrsAfQsqbS0ACjx49evLkicqJMW6M9YhsgguwVSitslpMcWtguTDnwU25JlL6kTf7ILK3S/IBtAETP8iwpzaW2Nmbmrl/Yq8Z4PQPhwPChx5jLCSVma9fvy69gZuIhWrICPQGQcCLoHAUuNidf8I/QYDAAi9RFBGChmET77XOpTcmmo3V6/WTk5PT09N6vU7FJGgMqANb4dbyAd+z5V2SOkcm2cTWGx3aFdk8OHkDzgJWXLHN6aacP/XmTpdlicOhmhTRLPXGi3If+mSA+f1+fzAYUKb47//+70pxM6DsxYsXT5488Wcl7Xa7yWRC458Gr/3fJCDwhoyooAFQqEAQ1gajt9vtjo6ORqPRcDiEu3kLH2RjBVVVsUSV/RDqgpY4nDydGAB+A7fyA0FSL75rJsNAyLqy6V+BjRFNbexWZC+N1f196vJhecJCqO12ezgcnp2dff311//8z//8u9/9DggE3nvx4oUzREA7zc3NzZdffonfoFDx70sASbQcpdgqlnlLXlmWtIYRoqFuG3tLSku2WnPf4GLF+qFrZsPe5Xg/WCXaz4/SBN7L2WVj5S6InZ1nCZz5Ynxe5prdZfYWocJmxsMflFghRroz3PDkyZP//M///Jd/+ZfLy0v5rdfX10xSh/Cz2QxWUL3l/00CFHMPLBVVWooZn4td0Ts4GAy++uqrk5MTCn4o9YGzmt7L60LvlUhgwdgbwcpVWRICBVV6eSHn4f3Ay0RKFAKvg0PCFHo9M7IB4qfKC/q6+zO3UEowEF4YdoWN/Omf/unZ2dmvf/3rly9fTiYTPPznz5//yZ/8SWnjy4k2QoD/mwSEXhtQEAQkhsD1VDITtlwul9vt9vz8/A//8A9V2IxuUQV9YvXo3FmoXGyoAAOnJuQDeWR1Skve+jBJNHCeV1zeb5J2Zs8eyATHGlm7pPN8C2WS5ceF9tKx0oohwjD84osvut3u8fHx7373u1evXuFVXF5ePn36FN3AUECp3P8fAviGbr/fE+jY25vosiz77LPP/uzP/uz8/JwqJWcYH1xP7EUwsbTKTucBm8iKyPlTZENrdNaRjQBUyDO4P52WSyF+LR69xH9ze0emz1h4OYomEXD2EzIyPOouJsyHYd/v98Ph8Be/+AUzRF++fJll2cuXL8lQpvYuBD+crusn/ABZKkmTc443A4deoO0P/uAPvv32WwKwzlLqOPQP+iyc+vOtMA2ToD4eMgrOex9bYGPItZjAmxPHFQSB8F9o3cUyp2D2D/WS7Lay/OKSyOuFkgjCB8qGwnmR9bSGNj+kXq9///331I3/8pe/hJaV5SoS771KPy0BWm5pqdrNZnN9fY3LTqHkN9988/Tp0+PjY+Wy+RbwX9suvZc+S6rEwoXXSJTYwKLIm1GB3xTbW8ycF3Z2HliI7MUvpQ3Rkc0nbRLavJHAyhcjS23qbr5XUVp2N7HZDz51KacM7DURTLVhGb/97W/H4/H5+fnJyUlmE70VIMlshMFPEEC2sbK3qeDlghcHg8HPfvazzz777Pj4GPOguClwRVfgFRaGFh17wOY6EWlw4RNfmSRWy1962e3QC1fE1sNFWElPLO93lgVWvVrZEAvnGXMF/ijsKG3cu+BWam90I9FdliX8IQUQhiGWeTQakfOBifFpfl8CQEydwn6/p+x0u92enJx8++235+fn9GUE1v8vf09r9bWwbquDCy3HJDMjOQi9d+j59lZLd/dbw0RpuQKqy3TWAu/MaYdR9MXIKsB0n+r+tAlnCqr0Slrkq8OUURTVarXhcOisa+PZs2d4wjAc0kkC6j2X/7gE+LqC2SiHw6HT6Xz55Zenp6eDwUBKDd6s2ZuXI6+kENpw+ZuUBFReqUjk5VEhgOCjjtgnufij8qprY+sDiKyVSuVvEmv1cPlP11PEyA/8vsreaK9dwHB+YIZ2RLZ/d3fHgPbCXqVes8GJPyEBksTKKsLxKWq12tdff316esrLA/Qxggq+ydWKJUY6UMlWdD/VJdHREQSGiAobWeav7cGpiYSB+b38JrPJCzo4SOijHecN3wq9RLf4DzkmC8ucJnIvsVUNEQRDO4FHvvnmm//5n//B00SGACY65B9DQb7yBcBRe/3o0aNPPvkEq8tOECudPpdSaYGVpEmcA89yhlZEHwSByoyduUKcu6hIDjazsVvOQ+7Oi5qEll7H8CqzzwJkhCFnbgWHkiF/YZXVY3P6UgyUE1RVpY6gOI6p8Q5tNHuWZZ1O5/z8XB0cxJdq9uqNn5YA35BSXd3r9Z4+fXp6eqopvOAw1R5h7jIbAyfk8KGuCMy1FhW158IKwbWSwOKOkhv/r6KraF9ZcRyZODbvbOa6BC60uqvC2oZ16CJq4hXwqnfI7yByzpHAoSZXLxbGDep0OoyvarfbpVcc/tMEkGhzkQ/66quvnjx5oingob37LzB3ydmgMF/X61YPvCfnTZASOxOg930Fdx+V+v8+4Nng/iSt+P44A+mo0pqqnZdjCLzS6MrcAvgJt+tg74LKrHuOdruiKAh8pWkKEp1MJlJisc07kh5OrLr09yKA+HSz2XS73adPnyJB/EkxBh1f5r2KO7KGRVHR96sry5hLrUvn6Kx9cRGHBvcBj2ip8w3MU/MNQ+jhKB23FKwzwMNBS2VBKolUYEkkZ1MvES+qNHu9HhEwCjhrNmpTHThQQgzH9WMqSPYKjqAzX6wEbSUKpVUSRN4rl3wxknupU5M6DmyKTHU/tCkVTzyVlWTWSK3z9eGQLx88UacZ3AesHIp2IUvgvHCQALT2KE3rH04QBNTB0c1KqzC1pPjSHL0gYuglMH46HB3ba9Lkc3NJEQUGN0MPzPgHFNwvrHMe1tRhZTbhMLSwJXeuvDchPYiMlpZtF4/ruaFlgH0+4GORvRVI69HnZbHCMMRyOs8CSQTlUgQ2Ooo7kNSEPIPBgPodfFLyKAKNuuGPSYCWG1kRmXYYGGKRZii9gf7akrSEf/qhZwlCg5u+mybryi9za6sjuKTcpLuvkfSI2Bsql3mvUxSRgCix1yWpMJSvmjisgw2QcqbZZGPCMFSNaWmv+tZLWWgiur6+5qD8JLPz3olaVdX/A46tXcVLp63GAAAAAElFTkSuQmCC\n",
                "text/plain": "<PIL.Image.Image image mode=RGB size=128x109 at 0x7F9374A97470>"
              }
            ],
            "_view_module": "@jupyter-widgets/output",
            "_model_module_version": "1.0.0",
            "_view_count": null,
            "_view_module_version": "1.0.0",
            "layout": "IPY_MODEL_9ea776c121ba446fb870074c972ee084",
            "_model_module": "@jupyter-widgets/output"
          }
        },
        "47831b903bdb4fa9bc5bb5edc256bc1b": {
          "model_module": "@jupyter-widgets/controls",
          "model_name": "LabelModel",
          "state": {
            "_view_name": "LabelView",
            "style": "IPY_MODEL_94660f6db38e49c484209c325d379388",
            "_dom_classes": [],
            "description": "",
            "_model_name": "LabelModel",
            "placeholder": "​",
            "_view_module": "@jupyter-widgets/controls",
            "_model_module_version": "1.5.0",
            "value": "Prediction: True; Probability:0.9083",
            "_view_count": null,
            "_view_module_version": "1.5.0",
            "description_tooltip": null,
            "_model_module": "@jupyter-widgets/controls",
            "layout": "IPY_MODEL_f99ac9a60b22488cbff7adad4d15f980"
          }
        },
        "26a47db3173040c086048c71339ecf68": {
          "model_module": "@jupyter-widgets/controls",
          "model_name": "DescriptionStyleModel",
          "state": {
            "_view_name": "StyleView",
            "_model_name": "DescriptionStyleModel",
            "description_width": "",
            "_view_module": "@jupyter-widgets/base",
            "_model_module_version": "1.5.0",
            "_view_count": null,
            "_view_module_version": "1.2.0",
            "_model_module": "@jupyter-widgets/controls"
          }
        },
        "cf480d23243c4275bd5543c4cb4d2a73": {
          "model_module": "@jupyter-widgets/base",
          "model_name": "LayoutModel",
          "state": {
            "_view_name": "LayoutView",
            "grid_template_rows": null,
            "right": null,
            "justify_content": null,
            "_view_module": "@jupyter-widgets/base",
            "overflow": null,
            "_model_module_version": "1.2.0",
            "_view_count": null,
            "flex_flow": null,
            "width": null,
            "min_width": null,
            "border": null,
            "align_items": null,
            "bottom": null,
            "_model_module": "@jupyter-widgets/base",
            "top": null,
            "grid_column": null,
            "overflow_y": null,
            "overflow_x": null,
            "grid_auto_flow": null,
            "grid_area": null,
            "grid_template_columns": null,
            "flex": null,
            "_model_name": "LayoutModel",
            "justify_items": null,
            "grid_row": null,
            "max_height": null,
            "align_content": null,
            "visibility": null,
            "align_self": null,
            "height": null,
            "min_height": null,
            "padding": null,
            "grid_auto_rows": null,
            "grid_gap": null,
            "max_width": null,
            "order": null,
            "_view_module_version": "1.2.0",
            "grid_template_areas": null,
            "object_position": null,
            "object_fit": null,
            "grid_auto_columns": null,
            "margin": null,
            "display": null,
            "left": null
          }
        },
        "74af5c56e2a046f28ca31e8ed77f7589": {
          "model_module": "@jupyter-widgets/controls",
          "model_name": "ButtonStyleModel",
          "state": {
            "_view_name": "StyleView",
            "_model_name": "ButtonStyleModel",
            "_view_module": "@jupyter-widgets/base",
            "_model_module_version": "1.5.0",
            "_view_count": null,
            "button_color": null,
            "font_weight": "",
            "_view_module_version": "1.2.0",
            "_model_module": "@jupyter-widgets/controls"
          }
        },
        "a64cd98ee6e943a69d98a0ca036f6054": {
          "model_module": "@jupyter-widgets/base",
          "model_name": "LayoutModel",
          "state": {
            "_view_name": "LayoutView",
            "grid_template_rows": null,
            "right": null,
            "justify_content": null,
            "_view_module": "@jupyter-widgets/base",
            "overflow": null,
            "_model_module_version": "1.2.0",
            "_view_count": null,
            "flex_flow": null,
            "width": null,
            "min_width": null,
            "border": null,
            "align_items": null,
            "bottom": null,
            "_model_module": "@jupyter-widgets/base",
            "top": null,
            "grid_column": null,
            "overflow_y": null,
            "overflow_x": null,
            "grid_auto_flow": null,
            "grid_area": null,
            "grid_template_columns": null,
            "flex": null,
            "_model_name": "LayoutModel",
            "justify_items": null,
            "grid_row": null,
            "max_height": null,
            "align_content": null,
            "visibility": null,
            "align_self": null,
            "height": null,
            "min_height": null,
            "padding": null,
            "grid_auto_rows": null,
            "grid_gap": null,
            "max_width": null,
            "order": null,
            "_view_module_version": "1.2.0",
            "grid_template_areas": null,
            "object_position": null,
            "object_fit": null,
            "grid_auto_columns": null,
            "margin": null,
            "display": null,
            "left": null
          }
        },
        "94660f6db38e49c484209c325d379388": {
          "model_module": "@jupyter-widgets/controls",
          "model_name": "DescriptionStyleModel",
          "state": {
            "_view_name": "StyleView",
            "_model_name": "DescriptionStyleModel",
            "description_width": "",
            "_view_module": "@jupyter-widgets/base",
            "_model_module_version": "1.5.0",
            "_view_count": null,
            "_view_module_version": "1.2.0",
            "_model_module": "@jupyter-widgets/controls"
          }
        },
        "f99ac9a60b22488cbff7adad4d15f980": {
          "model_module": "@jupyter-widgets/base",
          "model_name": "LayoutModel",
          "state": {
            "_view_name": "LayoutView",
            "grid_template_rows": null,
            "right": null,
            "justify_content": null,
            "_view_module": "@jupyter-widgets/base",
            "overflow": null,
            "_model_module_version": "1.2.0",
            "_view_count": null,
            "flex_flow": null,
            "width": null,
            "min_width": null,
            "border": null,
            "align_items": null,
            "bottom": null,
            "_model_module": "@jupyter-widgets/base",
            "top": null,
            "grid_column": null,
            "overflow_y": null,
            "overflow_x": null,
            "grid_auto_flow": null,
            "grid_area": null,
            "grid_template_columns": null,
            "flex": null,
            "_model_name": "LayoutModel",
            "justify_items": null,
            "grid_row": null,
            "max_height": null,
            "align_content": null,
            "visibility": null,
            "align_self": null,
            "height": null,
            "min_height": null,
            "padding": null,
            "grid_auto_rows": null,
            "grid_gap": null,
            "max_width": null,
            "order": null,
            "_view_module_version": "1.2.0",
            "grid_template_areas": null,
            "object_position": null,
            "object_fit": null,
            "grid_auto_columns": null,
            "margin": null,
            "display": null,
            "left": null
          }
        },
        "9ea776c121ba446fb870074c972ee084": {
          "model_module": "@jupyter-widgets/base",
          "model_name": "LayoutModel",
          "state": {
            "_view_name": "LayoutView",
            "grid_template_rows": null,
            "right": null,
            "justify_content": null,
            "_view_module": "@jupyter-widgets/base",
            "overflow": null,
            "_model_module_version": "1.2.0",
            "_view_count": null,
            "flex_flow": null,
            "width": null,
            "min_width": null,
            "border": null,
            "align_items": null,
            "bottom": null,
            "_model_module": "@jupyter-widgets/base",
            "top": null,
            "grid_column": null,
            "overflow_y": null,
            "overflow_x": null,
            "grid_auto_flow": null,
            "grid_area": null,
            "grid_template_columns": null,
            "flex": null,
            "_model_name": "LayoutModel",
            "justify_items": null,
            "grid_row": null,
            "max_height": null,
            "align_content": null,
            "visibility": null,
            "align_self": null,
            "height": null,
            "min_height": null,
            "padding": null,
            "grid_auto_rows": null,
            "grid_gap": null,
            "max_width": null,
            "order": null,
            "_view_module_version": "1.2.0",
            "grid_template_areas": null,
            "object_position": null,
            "object_fit": null,
            "grid_auto_columns": null,
            "margin": null,
            "display": null,
            "left": null
          }
        }
      }
    }
  },
  "cells": [
    {
      "cell_type": "markdown",
      "metadata": {
        "id": "view-in-github",
        "colab_type": "text"
      },
      "source": [
        "<a href=\"https://colab.research.google.com/github/AARohanAA/pneum/blob/main/Pneum.ipynb\" target=\"_parent\"><img src=\"https://colab.research.google.com/assets/colab-badge.svg\" alt=\"Open In Colab\"/></a>"
      ]
    },
    {
      "cell_type": "code",
      "metadata": {
        "id": "q7IbdfVPCZqC",
        "colab": {
          "base_uri": "https://localhost:8080/"
        },
        "outputId": "3cb1d188-aad1-4cb5-a8de-49467527586c"
      },
      "source": [
        "pip install fastai==2.1.10"
      ],
      "execution_count": 3,
      "outputs": [
        {
          "output_type": "stream",
          "text": [
            "Collecting fastai==2.1.10\n",
            "\u001b[?25l  Downloading https://files.pythonhosted.org/packages/3a/6f/392cf2a6af43abaaf9f5f52c17a5cfdb06902a3535f03ff0ca1bdfcc9b80/fastai-2.1.10-py3-none-any.whl (190kB)\n",
            "\r\u001b[K     |█▊                              | 10kB 29.7MB/s eta 0:00:01\r\u001b[K     |███▍                            | 20kB 33.8MB/s eta 0:00:01\r\u001b[K     |█████▏                          | 30kB 19.9MB/s eta 0:00:01\r\u001b[K     |██████▉                         | 40kB 16.6MB/s eta 0:00:01\r\u001b[K     |████████▋                       | 51kB 12.6MB/s eta 0:00:01\r\u001b[K     |██████████▎                     | 61kB 12.5MB/s eta 0:00:01\r\u001b[K     |████████████                    | 71kB 13.2MB/s eta 0:00:01\r\u001b[K     |█████████████▊                  | 81kB 13.1MB/s eta 0:00:01\r\u001b[K     |███████████████▌                | 92kB 12.3MB/s eta 0:00:01\r\u001b[K     |█████████████████▏              | 102kB 13.2MB/s eta 0:00:01\r\u001b[K     |███████████████████             | 112kB 13.2MB/s eta 0:00:01\r\u001b[K     |████████████████████▋           | 122kB 13.2MB/s eta 0:00:01\r\u001b[K     |██████████████████████▍         | 133kB 13.2MB/s eta 0:00:01\r\u001b[K     |████████████████████████        | 143kB 13.2MB/s eta 0:00:01\r\u001b[K     |█████████████████████████▉      | 153kB 13.2MB/s eta 0:00:01\r\u001b[K     |███████████████████████████▌    | 163kB 13.2MB/s eta 0:00:01\r\u001b[K     |█████████████████████████████▎  | 174kB 13.2MB/s eta 0:00:01\r\u001b[K     |███████████████████████████████ | 184kB 13.2MB/s eta 0:00:01\r\u001b[K     |████████████████████████████████| 194kB 13.2MB/s \n",
            "\u001b[?25hRequirement already satisfied: spacy in /usr/local/lib/python3.6/dist-packages (from fastai==2.1.10) (2.2.4)\n",
            "Requirement already satisfied: fastprogress>=0.2.4 in /usr/local/lib/python3.6/dist-packages (from fastai==2.1.10) (1.0.0)\n",
            "Requirement already satisfied: matplotlib in /usr/local/lib/python3.6/dist-packages (from fastai==2.1.10) (3.2.2)\n",
            "Requirement already satisfied: scikit-learn in /usr/local/lib/python3.6/dist-packages (from fastai==2.1.10) (0.22.2.post1)\n",
            "Requirement already satisfied: pandas in /usr/local/lib/python3.6/dist-packages (from fastai==2.1.10) (1.1.5)\n",
            "Requirement already satisfied: pyyaml in /usr/local/lib/python3.6/dist-packages (from fastai==2.1.10) (3.13)\n",
            "Requirement already satisfied: requests in /usr/local/lib/python3.6/dist-packages (from fastai==2.1.10) (2.23.0)\n",
            "Requirement already satisfied: packaging in /usr/local/lib/python3.6/dist-packages (from fastai==2.1.10) (20.8)\n",
            "Requirement already satisfied: torch>=1.7.0 in /usr/local/lib/python3.6/dist-packages (from fastai==2.1.10) (1.7.0+cu101)\n",
            "Collecting fastcore>=1.3.8\n",
            "\u001b[?25l  Downloading https://files.pythonhosted.org/packages/d3/fc/515a890925e9faf434eb802652022e50c18bffabbdff8e61b02006d781f7/fastcore-1.3.13-py3-none-any.whl (52kB)\n",
            "\r\u001b[K     |██████▏                         | 10kB 24.5MB/s eta 0:00:01\r\u001b[K     |████████████▍                   | 20kB 32.5MB/s eta 0:00:01\r\u001b[K     |██████████████████▋             | 30kB 37.9MB/s eta 0:00:01\r\u001b[K     |████████████████████████▊       | 40kB 42.4MB/s eta 0:00:01\r\u001b[K     |███████████████████████████████ | 51kB 30.7MB/s eta 0:00:01\r\u001b[K     |████████████████████████████████| 61kB 9.1MB/s \n",
            "\u001b[?25hRequirement already satisfied: scipy in /usr/local/lib/python3.6/dist-packages (from fastai==2.1.10) (1.4.1)\n",
            "Requirement already satisfied: pillow>6.0.0 in /usr/local/lib/python3.6/dist-packages (from fastai==2.1.10) (7.0.0)\n",
            "Requirement already satisfied: torchvision>=0.8 in /usr/local/lib/python3.6/dist-packages (from fastai==2.1.10) (0.8.1+cu101)\n",
            "Requirement already satisfied: pip in /usr/local/lib/python3.6/dist-packages (from fastai==2.1.10) (19.3.1)\n",
            "Requirement already satisfied: plac<1.2.0,>=0.9.6 in /usr/local/lib/python3.6/dist-packages (from spacy->fastai==2.1.10) (1.1.3)\n",
            "Requirement already satisfied: tqdm<5.0.0,>=4.38.0 in /usr/local/lib/python3.6/dist-packages (from spacy->fastai==2.1.10) (4.41.1)\n",
            "Requirement already satisfied: setuptools in /usr/local/lib/python3.6/dist-packages (from spacy->fastai==2.1.10) (51.0.0)\n",
            "Requirement already satisfied: murmurhash<1.1.0,>=0.28.0 in /usr/local/lib/python3.6/dist-packages (from spacy->fastai==2.1.10) (1.0.5)\n",
            "Requirement already satisfied: cymem<2.1.0,>=2.0.2 in /usr/local/lib/python3.6/dist-packages (from spacy->fastai==2.1.10) (2.0.5)\n",
            "Requirement already satisfied: catalogue<1.1.0,>=0.0.7 in /usr/local/lib/python3.6/dist-packages (from spacy->fastai==2.1.10) (1.0.0)\n",
            "Requirement already satisfied: preshed<3.1.0,>=3.0.2 in /usr/local/lib/python3.6/dist-packages (from spacy->fastai==2.1.10) (3.0.5)\n",
            "Requirement already satisfied: blis<0.5.0,>=0.4.0 in /usr/local/lib/python3.6/dist-packages (from spacy->fastai==2.1.10) (0.4.1)\n",
            "Requirement already satisfied: wasabi<1.1.0,>=0.4.0 in /usr/local/lib/python3.6/dist-packages (from spacy->fastai==2.1.10) (0.8.0)\n",
            "Requirement already satisfied: thinc==7.4.0 in /usr/local/lib/python3.6/dist-packages (from spacy->fastai==2.1.10) (7.4.0)\n",
            "Requirement already satisfied: srsly<1.1.0,>=1.0.2 in /usr/local/lib/python3.6/dist-packages (from spacy->fastai==2.1.10) (1.0.5)\n",
            "Requirement already satisfied: numpy>=1.15.0 in /usr/local/lib/python3.6/dist-packages (from spacy->fastai==2.1.10) (1.19.4)\n",
            "Requirement already satisfied: kiwisolver>=1.0.1 in /usr/local/lib/python3.6/dist-packages (from matplotlib->fastai==2.1.10) (1.3.1)\n",
            "Requirement already satisfied: cycler>=0.10 in /usr/local/lib/python3.6/dist-packages (from matplotlib->fastai==2.1.10) (0.10.0)\n",
            "Requirement already satisfied: pyparsing!=2.0.4,!=2.1.2,!=2.1.6,>=2.0.1 in /usr/local/lib/python3.6/dist-packages (from matplotlib->fastai==2.1.10) (2.4.7)\n",
            "Requirement already satisfied: python-dateutil>=2.1 in /usr/local/lib/python3.6/dist-packages (from matplotlib->fastai==2.1.10) (2.8.1)\n",
            "Requirement already satisfied: joblib>=0.11 in /usr/local/lib/python3.6/dist-packages (from scikit-learn->fastai==2.1.10) (1.0.0)\n",
            "Requirement already satisfied: pytz>=2017.2 in /usr/local/lib/python3.6/dist-packages (from pandas->fastai==2.1.10) (2018.9)\n",
            "Requirement already satisfied: urllib3!=1.25.0,!=1.25.1,<1.26,>=1.21.1 in /usr/local/lib/python3.6/dist-packages (from requests->fastai==2.1.10) (1.24.3)\n",
            "Requirement already satisfied: certifi>=2017.4.17 in /usr/local/lib/python3.6/dist-packages (from requests->fastai==2.1.10) (2020.12.5)\n",
            "Requirement already satisfied: chardet<4,>=3.0.2 in /usr/local/lib/python3.6/dist-packages (from requests->fastai==2.1.10) (3.0.4)\n",
            "Requirement already satisfied: idna<3,>=2.5 in /usr/local/lib/python3.6/dist-packages (from requests->fastai==2.1.10) (2.10)\n",
            "Requirement already satisfied: dataclasses in /usr/local/lib/python3.6/dist-packages (from torch>=1.7.0->fastai==2.1.10) (0.8)\n",
            "Requirement already satisfied: typing-extensions in /usr/local/lib/python3.6/dist-packages (from torch>=1.7.0->fastai==2.1.10) (3.7.4.3)\n",
            "Requirement already satisfied: future in /usr/local/lib/python3.6/dist-packages (from torch>=1.7.0->fastai==2.1.10) (0.16.0)\n",
            "Requirement already satisfied: importlib-metadata>=0.20; python_version < \"3.8\" in /usr/local/lib/python3.6/dist-packages (from catalogue<1.1.0,>=0.0.7->spacy->fastai==2.1.10) (3.3.0)\n",
            "Requirement already satisfied: six in /usr/local/lib/python3.6/dist-packages (from cycler>=0.10->matplotlib->fastai==2.1.10) (1.15.0)\n",
            "Requirement already satisfied: zipp>=0.5 in /usr/local/lib/python3.6/dist-packages (from importlib-metadata>=0.20; python_version < \"3.8\"->catalogue<1.1.0,>=0.0.7->spacy->fastai==2.1.10) (3.4.0)\n",
            "Installing collected packages: fastcore, fastai\n",
            "  Found existing installation: fastai 1.0.61\n",
            "    Uninstalling fastai-1.0.61:\n",
            "      Successfully uninstalled fastai-1.0.61\n",
            "Successfully installed fastai-2.1.10 fastcore-1.3.13\n"
          ],
          "name": "stdout"
        }
      ]
    },
    {
      "cell_type": "code",
      "metadata": {
        "id": "UiwAvwO31CqS"
      },
      "source": [
        "from fastai.vision.all import *\r\n",
        "from fastai.vision.widgets import *"
      ],
      "execution_count": 3,
      "outputs": []
    },
    {
      "cell_type": "code",
      "metadata": {
        "id": "0xAfuOfT0ION",
        "colab": {
          "base_uri": "https://localhost:8080/",
          "height": 35
        },
        "outputId": "18cd642f-4944-41ab-9472-abaaeed2bd76"
      },
      "source": [
        "import fastai\r\n",
        "fastai.__version__"
      ],
      "execution_count": 5,
      "outputs": [
        {
          "output_type": "execute_result",
          "data": {
            "application/vnd.google.colaboratory.intrinsic+json": {
              "type": "string"
            },
            "text/plain": [
              "'2.1.10'"
            ]
          },
          "metadata": {
            "tags": []
          },
          "execution_count": 5
        }
      ]
    },
    {
      "cell_type": "code",
      "metadata": {
        "id": "19Vfbm4NkpUY",
        "colab": {
          "base_uri": "https://localhost:8080/",
          "height": 1000
        },
        "outputId": "8d1368a4-3698-4038-d560-ff14858dba2b"
      },
      "source": [
        "pip install voila"
      ],
      "execution_count": 6,
      "outputs": [
        {
          "output_type": "stream",
          "text": [
            "Collecting voila\n",
            "\u001b[?25l  Downloading https://files.pythonhosted.org/packages/50/7d/ef470f3d3c574162bb8705b264f4cb47eac8c923f6bf1e37283f871ead6a/voila-0.2.4-py3-none-any.whl (1.9MB)\n",
            "\u001b[K     |████████████████████████████████| 1.9MB 13.2MB/s \n",
            "\u001b[?25hCollecting jupyter-client<7,>=6.1.3\n",
            "\u001b[?25l  Downloading https://files.pythonhosted.org/packages/dc/41/9fa443d5ae8907dd8f7d12146cb0092dc053afd67b5b57e7e8786a328547/jupyter_client-6.1.7-py3-none-any.whl (108kB)\n",
            "\u001b[K     |████████████████████████████████| 112kB 55.3MB/s \n",
            "\u001b[?25hCollecting jupyter-server<2.0.0,>=0.3.0\n",
            "\u001b[?25l  Downloading https://files.pythonhosted.org/packages/70/0d/fedbcc3d238dacaeee07821d8c2ab7e64825a1dcd12db13f340fa8833b89/jupyter_server-1.1.3-py3-none-any.whl (231kB)\n",
            "\u001b[K     |████████████████████████████████| 235kB 50.8MB/s \n",
            "\u001b[?25hRequirement already satisfied: nbclient<0.6,>=0.4.0 in /usr/local/lib/python3.6/dist-packages (from voila) (0.5.1)\n",
            "Collecting nbconvert<7,>=6.0.0\n",
            "\u001b[?25l  Downloading https://files.pythonhosted.org/packages/13/2f/acbe7006548f3914456ee47f97a2033b1b2f3daf921b12ac94105d87c163/nbconvert-6.0.7-py3-none-any.whl (552kB)\n",
            "\u001b[K     |████████████████████████████████| 552kB 53.9MB/s \n",
            "\u001b[?25hRequirement already satisfied: tornado>=4.1 in /usr/local/lib/python3.6/dist-packages (from jupyter-client<7,>=6.1.3->voila) (5.1.1)\n",
            "Requirement already satisfied: python-dateutil>=2.1 in /usr/local/lib/python3.6/dist-packages (from jupyter-client<7,>=6.1.3->voila) (2.8.1)\n",
            "Requirement already satisfied: jupyter-core>=4.6.0 in /usr/local/lib/python3.6/dist-packages (from jupyter-client<7,>=6.1.3->voila) (4.7.0)\n",
            "Requirement already satisfied: pyzmq>=13 in /usr/local/lib/python3.6/dist-packages (from jupyter-client<7,>=6.1.3->voila) (20.0.0)\n",
            "Requirement already satisfied: traitlets in /usr/local/lib/python3.6/dist-packages (from jupyter-client<7,>=6.1.3->voila) (4.3.3)\n",
            "Requirement already satisfied: jinja2 in /usr/local/lib/python3.6/dist-packages (from jupyter-server<2.0.0,>=0.3.0->voila) (2.11.2)\n",
            "Requirement already satisfied: Send2Trash in /usr/local/lib/python3.6/dist-packages (from jupyter-server<2.0.0,>=0.3.0->voila) (1.5.0)\n",
            "Requirement already satisfied: nbformat in /usr/local/lib/python3.6/dist-packages (from jupyter-server<2.0.0,>=0.3.0->voila) (5.0.8)\n",
            "Requirement already satisfied: ipython-genutils in /usr/local/lib/python3.6/dist-packages (from jupyter-server<2.0.0,>=0.3.0->voila) (0.2.0)\n",
            "Requirement already satisfied: prometheus-client in /usr/local/lib/python3.6/dist-packages (from jupyter-server<2.0.0,>=0.3.0->voila) (0.9.0)\n",
            "Collecting anyio>=2.0.2\n",
            "\u001b[?25l  Downloading https://files.pythonhosted.org/packages/d7/83/0585a2bafc0898a07f491a001520db9a7b1aaca2369f99590ff2bfe9067a/anyio-2.0.2-py3-none-any.whl (62kB)\n",
            "\u001b[K     |████████████████████████████████| 71kB 11.8MB/s \n",
            "\u001b[?25hRequirement already satisfied: terminado>=0.8.3 in /usr/local/lib/python3.6/dist-packages (from jupyter-server<2.0.0,>=0.3.0->voila) (0.9.1)\n",
            "Requirement already satisfied: async-generator in /usr/local/lib/python3.6/dist-packages (from nbclient<0.6,>=0.4.0->voila) (1.10)\n",
            "Requirement already satisfied: nest-asyncio in /usr/local/lib/python3.6/dist-packages (from nbclient<0.6,>=0.4.0->voila) (1.4.3)\n",
            "Requirement already satisfied: bleach in /usr/local/lib/python3.6/dist-packages (from nbconvert<7,>=6.0.0->voila) (3.2.1)\n",
            "Requirement already satisfied: entrypoints>=0.2.2 in /usr/local/lib/python3.6/dist-packages (from nbconvert<7,>=6.0.0->voila) (0.3)\n",
            "Requirement already satisfied: testpath in /usr/local/lib/python3.6/dist-packages (from nbconvert<7,>=6.0.0->voila) (0.4.4)\n",
            "Requirement already satisfied: pandocfilters>=1.4.1 in /usr/local/lib/python3.6/dist-packages (from nbconvert<7,>=6.0.0->voila) (1.4.3)\n",
            "Requirement already satisfied: mistune<2,>=0.8.1 in /usr/local/lib/python3.6/dist-packages (from nbconvert<7,>=6.0.0->voila) (0.8.4)\n",
            "Requirement already satisfied: defusedxml in /usr/local/lib/python3.6/dist-packages (from nbconvert<7,>=6.0.0->voila) (0.6.0)\n",
            "Requirement already satisfied: pygments>=2.4.1 in /usr/local/lib/python3.6/dist-packages (from nbconvert<7,>=6.0.0->voila) (2.6.1)\n",
            "Requirement already satisfied: jupyterlab-pygments in /usr/local/lib/python3.6/dist-packages (from nbconvert<7,>=6.0.0->voila) (0.1.2)\n",
            "Requirement already satisfied: six>=1.5 in /usr/local/lib/python3.6/dist-packages (from python-dateutil>=2.1->jupyter-client<7,>=6.1.3->voila) (1.15.0)\n",
            "Requirement already satisfied: decorator in /usr/local/lib/python3.6/dist-packages (from traitlets->jupyter-client<7,>=6.1.3->voila) (4.4.2)\n",
            "Requirement already satisfied: MarkupSafe>=0.23 in /usr/local/lib/python3.6/dist-packages (from jinja2->jupyter-server<2.0.0,>=0.3.0->voila) (1.1.1)\n",
            "Requirement already satisfied: jsonschema!=2.5.0,>=2.4 in /usr/local/lib/python3.6/dist-packages (from nbformat->jupyter-server<2.0.0,>=0.3.0->voila) (2.6.0)\n",
            "Requirement already satisfied: typing-extensions; python_version < \"3.8\" in /usr/local/lib/python3.6/dist-packages (from anyio>=2.0.2->jupyter-server<2.0.0,>=0.3.0->voila) (3.7.4.3)\n",
            "Requirement already satisfied: idna>=2.8 in /usr/local/lib/python3.6/dist-packages (from anyio>=2.0.2->jupyter-server<2.0.0,>=0.3.0->voila) (2.10)\n",
            "Requirement already satisfied: dataclasses; python_version < \"3.7\" in /usr/local/lib/python3.6/dist-packages (from anyio>=2.0.2->jupyter-server<2.0.0,>=0.3.0->voila) (0.8)\n",
            "Collecting sniffio>=1.1\n",
            "  Downloading https://files.pythonhosted.org/packages/52/b0/7b2e028b63d092804b6794595871f936aafa5e9322dcaaad50ebf67445b3/sniffio-1.2.0-py3-none-any.whl\n",
            "Requirement already satisfied: ptyprocess; os_name != \"nt\" in /usr/local/lib/python3.6/dist-packages (from terminado>=0.8.3->jupyter-server<2.0.0,>=0.3.0->voila) (0.6.0)\n",
            "Requirement already satisfied: webencodings in /usr/local/lib/python3.6/dist-packages (from bleach->nbconvert<7,>=6.0.0->voila) (0.5.1)\n",
            "Requirement already satisfied: packaging in /usr/local/lib/python3.6/dist-packages (from bleach->nbconvert<7,>=6.0.0->voila) (20.8)\n",
            "Collecting contextvars>=2.1; python_version < \"3.7\"\n",
            "  Downloading https://files.pythonhosted.org/packages/83/96/55b82d9f13763be9d672622e1b8106c85acb83edd7cc2fa5bc67cd9877e9/contextvars-2.4.tar.gz\n",
            "Requirement already satisfied: pyparsing>=2.0.2 in /usr/local/lib/python3.6/dist-packages (from packaging->bleach->nbconvert<7,>=6.0.0->voila) (2.4.7)\n",
            "Collecting immutables>=0.9\n",
            "\u001b[?25l  Downloading https://files.pythonhosted.org/packages/99/e0/ea6fd4697120327d26773b5a84853f897a68e33d3f9376b00a8ff96e4f63/immutables-0.14-cp36-cp36m-manylinux1_x86_64.whl (98kB)\n",
            "\u001b[K     |████████████████████████████████| 102kB 15.0MB/s \n",
            "\u001b[?25hBuilding wheels for collected packages: contextvars\n",
            "  Building wheel for contextvars (setup.py) ... \u001b[?25l\u001b[?25hdone\n",
            "  Created wheel for contextvars: filename=contextvars-2.4-cp36-none-any.whl size=7667 sha256=7452a19b0f9b6764588a8eaca4d371c4d8f1bb3adfae34a19c826cb4e7350492\n",
            "  Stored in directory: /root/.cache/pip/wheels/a5/7d/68/1ebae2668bda2228686e3c1cf16f2c2384cea6e9334ad5f6de\n",
            "Successfully built contextvars\n",
            "\u001b[31mERROR: jupyter-server 1.1.3 has requirement tornado>=6.1.0, but you'll have tornado 5.1.1 which is incompatible.\u001b[0m\n",
            "Installing collected packages: jupyter-client, nbconvert, immutables, contextvars, sniffio, anyio, jupyter-server, voila\n",
            "  Found existing installation: jupyter-client 5.3.5\n",
            "    Uninstalling jupyter-client-5.3.5:\n",
            "      Successfully uninstalled jupyter-client-5.3.5\n",
            "  Found existing installation: nbconvert 5.6.1\n",
            "    Uninstalling nbconvert-5.6.1:\n",
            "      Successfully uninstalled nbconvert-5.6.1\n",
            "Successfully installed anyio-2.0.2 contextvars-2.4 immutables-0.14 jupyter-client-6.1.7 jupyter-server-1.1.3 nbconvert-6.0.7 sniffio-1.2.0 voila-0.2.4\n"
          ],
          "name": "stdout"
        },
        {
          "output_type": "display_data",
          "data": {
            "application/vnd.colab-display-data+json": {
              "pip_warning": {
                "packages": [
                  "jupyter_client"
                ]
              }
            }
          },
          "metadata": {
            "tags": []
          }
        }
      ]
    },
    {
      "cell_type": "code",
      "metadata": {
        "id": "IOE9tl5qCmVs",
        "colab": {
          "base_uri": "https://localhost:8080/"
        },
        "outputId": "697ffa95-9336-4a84-ff3d-1a4dacc05e84"
      },
      "source": [
        "from google.colab import drive\n",
        "drive.mount('/content/drive')\n",
        "from fastai.imports import *\n",
        "path = Path(\"/content/drive/My Drive/Dataset\")\n",
        "from fastai.vision.all import *"
      ],
      "execution_count": 5,
      "outputs": [
        {
          "output_type": "stream",
          "text": [
            "Drive already mounted at /content/drive; to attempt to forcibly remount, call drive.mount(\"/content/drive\", force_remount=True).\n"
          ],
          "name": "stdout"
        }
      ]
    },
    {
      "cell_type": "code",
      "metadata": {
        "id": "NCdYQnPjC2CL",
        "colab": {
          "base_uri": "https://localhost:8080/",
          "height": 229,
          "referenced_widgets": [
            "4651f20bb4fe4f43a05e839400d4b888",
            "2d479d03ab75427aa158bce6764fa1d7",
            "72f3623e22c34c84b6072e9efe91d92d",
            "1847c0d3b3194628bd9ae93615f7a6f8",
            "5795251110204c5ab18c5473d5833e5d",
            "084dc4c4aa204c82b8a02a462d18bc0e",
            "37e066426a9f4bb197c2b34456bc0d17",
            "cd683cb9532c484590eeb4b6de1bd827"
          ]
        },
        "outputId": "132591d1-eebb-4728-8d37-57418bd50b1b"
      },
      "source": [
        "def is_pneumonia(x): return x[0].isupper()\n",
        "dls = ImageDataLoaders.from_name_func(\n",
        "path, get_image_files(path), valid_pct=0.2, seed=42,\n",
        "label_func=is_pneumonia, item_tfms=Resize(224))\n",
        "learn = cnn_learner(dls, resnet34, metrics=error_rate)\n",
        "learn.fine_tune(1)"
      ],
      "execution_count": 6,
      "outputs": [
        {
          "output_type": "stream",
          "text": [
            "Downloading: \"https://download.pytorch.org/models/resnet34-333f7ec4.pth\" to /root/.cache/torch/hub/checkpoints/resnet34-333f7ec4.pth\n"
          ],
          "name": "stderr"
        },
        {
          "output_type": "display_data",
          "data": {
            "application/vnd.jupyter.widget-view+json": {
              "model_id": "4651f20bb4fe4f43a05e839400d4b888",
              "version_minor": 0,
              "version_major": 2
            },
            "text/plain": [
              "HBox(children=(FloatProgress(value=0.0, max=87306240.0), HTML(value='')))"
            ]
          },
          "metadata": {
            "tags": []
          }
        },
        {
          "output_type": "stream",
          "text": [
            "\n"
          ],
          "name": "stdout"
        },
        {
          "output_type": "display_data",
          "data": {
            "text/html": [
              "<table border=\"1\" class=\"dataframe\">\n",
              "  <thead>\n",
              "    <tr style=\"text-align: left;\">\n",
              "      <th>epoch</th>\n",
              "      <th>train_loss</th>\n",
              "      <th>valid_loss</th>\n",
              "      <th>error_rate</th>\n",
              "      <th>time</th>\n",
              "    </tr>\n",
              "  </thead>\n",
              "  <tbody>\n",
              "    <tr>\n",
              "      <td>0</td>\n",
              "      <td>0.518743</td>\n",
              "      <td>0.238275</td>\n",
              "      <td>0.066496</td>\n",
              "      <td>10:26</td>\n",
              "    </tr>\n",
              "  </tbody>\n",
              "</table>"
            ],
            "text/plain": [
              "<IPython.core.display.HTML object>"
            ]
          },
          "metadata": {
            "tags": []
          }
        },
        {
          "output_type": "display_data",
          "data": {
            "text/html": [
              "<table border=\"1\" class=\"dataframe\">\n",
              "  <thead>\n",
              "    <tr style=\"text-align: left;\">\n",
              "      <th>epoch</th>\n",
              "      <th>train_loss</th>\n",
              "      <th>valid_loss</th>\n",
              "      <th>error_rate</th>\n",
              "      <th>time</th>\n",
              "    </tr>\n",
              "  </thead>\n",
              "  <tbody>\n",
              "    <tr>\n",
              "      <td>0</td>\n",
              "      <td>0.180170</td>\n",
              "      <td>0.117043</td>\n",
              "      <td>0.031543</td>\n",
              "      <td>01:28</td>\n",
              "    </tr>\n",
              "  </tbody>\n",
              "</table>"
            ],
            "text/plain": [
              "<IPython.core.display.HTML object>"
            ]
          },
          "metadata": {
            "tags": []
          }
        }
      ]
    },
    {
      "cell_type": "code",
      "metadata": {
        "id": "D-wNAkTgDIOL"
      },
      "source": [
        "learn.path = Path(os.getcwd())\n",
        "learn.export()"
      ],
      "execution_count": 7,
      "outputs": []
    },
    {
      "cell_type": "code",
      "metadata": {
        "colab": {
          "base_uri": "https://localhost:8080/"
        },
        "id": "Fm3wJWIeLoek",
        "outputId": "8ca682e8-ffcc-451e-a507-a0f2d9355f05"
      },
      "source": [
        "path = Path()\n",
        "path.ls(file_exts='.pkl')"
      ],
      "execution_count": 8,
      "outputs": [
        {
          "output_type": "execute_result",
          "data": {
            "text/plain": [
              "(#1) [Path('export.pkl')]"
            ]
          },
          "metadata": {
            "tags": []
          },
          "execution_count": 8
        }
      ]
    },
    {
      "cell_type": "code",
      "metadata": {
        "id": "6V8B1KFdPNeZ"
      },
      "source": [
        "learn_inf = load_learner(path/'export.pkl')"
      ],
      "execution_count": 10,
      "outputs": []
    },
    {
      "cell_type": "code",
      "metadata": {
        "colab": {
          "base_uri": "https://localhost:8080/"
        },
        "id": "P7cJgZnDPY3i",
        "outputId": "7147d2d7-1c05-4cf1-d83b-c47e70bad883"
      },
      "source": [
        "learn_inf.dls.vocab"
      ],
      "execution_count": 11,
      "outputs": [
        {
          "output_type": "execute_result",
          "data": {
            "text/plain": [
              "[False, True]"
            ]
          },
          "metadata": {
            "tags": []
          },
          "execution_count": 11
        }
      ]
    },
    {
      "cell_type": "code",
      "metadata": {
        "colab": {
          "base_uri": "https://localhost:8080/",
          "height": 49,
          "referenced_widgets": [
            "8727ae47c6c3472a9c0186b618f2e30a",
            "dbac0da0ab7d4626b2d223db6e6e5609",
            "a992bcf46c664eef988b9e470b6f0a5f"
          ]
        },
        "id": "UBqIfV9Dn14U",
        "outputId": "918e5e81-b889-48d0-e409-b3b348235398"
      },
      "source": [
        "btn_upload = widgets.FileUpload()\n",
        "btn_upload"
      ],
      "execution_count": 26,
      "outputs": [
        {
          "output_type": "display_data",
          "data": {
            "application/vnd.jupyter.widget-view+json": {
              "model_id": "8727ae47c6c3472a9c0186b618f2e30a",
              "version_minor": 0,
              "version_major": 2
            },
            "text/plain": [
              "FileUpload(value={}, description='Upload')"
            ]
          },
          "metadata": {
            "tags": []
          }
        }
      ]
    },
    {
      "cell_type": "code",
      "metadata": {
        "id": "XlSbE79-3J6F",
        "colab": {
          "base_uri": "https://localhost:8080/",
          "height": 115,
          "referenced_widgets": [
            "a40caa0a05a9467fbab9ba9988be1106",
            "493d2842a45948eea9b8223e4ec385d1"
          ]
        },
        "outputId": "870de2dd-939a-4850-a639-9937ee54169d"
      },
      "source": [
        "img = PILImage.create(btn_upload.data[-1])\r\n",
        "out_pl = widgets.Output()\r\n",
        "out_pl.clear_output()\r\n",
        "with out_pl: display(img.to_thumb(128,128))\r\n",
        "out_pl"
      ],
      "execution_count": 30,
      "outputs": [
        {
          "output_type": "display_data",
          "data": {
            "application/vnd.jupyter.widget-view+json": {
              "model_id": "a40caa0a05a9467fbab9ba9988be1106",
              "version_minor": 0,
              "version_major": 2
            },
            "text/plain": [
              "Output()"
            ]
          },
          "metadata": {
            "tags": []
          }
        }
      ]
    },
    {
      "cell_type": "code",
      "metadata": {
        "colab": {
          "base_uri": "https://localhost:8080/",
          "height": 17
        },
        "id": "coXSxUzgQrJa",
        "outputId": "579d9ef8-0b5b-411f-c016-c393a6ba088b"
      },
      "source": [
        "pred,pred_idx,probs = learn_inf.predict(img)"
      ],
      "execution_count": 31,
      "outputs": [
        {
          "output_type": "display_data",
          "data": {
            "text/html": [
              ""
            ],
            "text/plain": [
              "<IPython.core.display.HTML object>"
            ]
          },
          "metadata": {
            "tags": []
          }
        }
      ]
    },
    {
      "cell_type": "code",
      "metadata": {
        "colab": {
          "base_uri": "https://localhost:8080/",
          "height": 49,
          "referenced_widgets": [
            "91cb1a7474cc4ff49bb034cfba5299bb",
            "f09d14a1744f446b8543d873abe586be",
            "3a92011bfa254827bfebfe9cb907ddd6"
          ]
        },
        "id": "Tr259wj6QuHF",
        "outputId": "edca500c-3da7-446b-b406-e5c8cdbcfc3c"
      },
      "source": [
        "lbl_pred = widgets.Label()\n",
        "lbl_pred.value = f'Prediction: {pred}; Probability:{probs[pred_idx]:.04f}'\n",
        "lbl_pred"
      ],
      "execution_count": 32,
      "outputs": [
        {
          "output_type": "display_data",
          "data": {
            "application/vnd.jupyter.widget-view+json": {
              "model_id": "91cb1a7474cc4ff49bb034cfba5299bb",
              "version_minor": 0,
              "version_major": 2
            },
            "text/plain": [
              "Label(value='Prediction: True; Probability:1.0000')"
            ]
          },
          "metadata": {
            "tags": []
          }
        }
      ]
    },
    {
      "cell_type": "code",
      "metadata": {
        "colab": {
          "base_uri": "https://localhost:8080/",
          "height": 49,
          "referenced_widgets": [
            "4f2b1d6a56974e228970e205fb984a82",
            "409a3f7d4da34612a2f97a1470a36014",
            "a5f4a3cca5d542e387e60a2055e15298"
          ]
        },
        "id": "XKvSvN2iQwRo",
        "outputId": "dcacb250-8905-4223-ac77-84ed5d9d5722"
      },
      "source": [
        "btn_run = widgets.Button(description='Classify')\n",
        "btn_run"
      ],
      "execution_count": 16,
      "outputs": [
        {
          "output_type": "display_data",
          "data": {
            "application/vnd.jupyter.widget-view+json": {
              "model_id": "4f2b1d6a56974e228970e205fb984a82",
              "version_minor": 0,
              "version_major": 2
            },
            "text/plain": [
              "Button(description='Classify', style=ButtonStyle())"
            ]
          },
          "metadata": {
            "tags": []
          }
        }
      ]
    },
    {
      "cell_type": "code",
      "metadata": {
        "id": "TMsaUFgSRH6E"
      },
      "source": [
        "def on_click_classify(change):\n",
        "  img = PILImage.create(btn_upload.data[-1])\n",
        "  out_pl.clear_output()\n",
        "  with out_pl: display(img.to_thumb(128,128))\n",
        "  pred,pred_idx,probs = learn_inf.predict(img)\n",
        "  lbl_pred.value = f'Prediction: {pred}; Probability:{probs[pred_idx]:.04f}'\n",
        "  btn_run.on_click(on_click_classify)"
      ],
      "execution_count": 17,
      "outputs": []
    },
    {
      "cell_type": "code",
      "metadata": {
        "id": "qiwhGaq8RNch"
      },
      "source": [
        "from ipywidgets import *"
      ],
      "execution_count": 18,
      "outputs": []
    },
    {
      "cell_type": "code",
      "metadata": {
        "colab": {
          "base_uri": "https://localhost:8080/",
          "height": 254,
          "referenced_widgets": [
            "51249e59bf6c4054b3edff0f538770d7",
            "097fee3e5fdd4275b1a78fcfc80c0cc8",
            "cf8c99642f5949efa443d6aea05d6448",
            "85ee9d44d66c4e3aa7916049e6c94659",
            "4f2b1d6a56974e228970e205fb984a82",
            "610369a7d98543839ddc59c19e6293ba",
            "47831b903bdb4fa9bc5bb5edc256bc1b",
            "26a47db3173040c086048c71339ecf68",
            "cf480d23243c4275bd5543c4cb4d2a73",
            "74af5c56e2a046f28ca31e8ed77f7589",
            "a64cd98ee6e943a69d98a0ca036f6054",
            "409a3f7d4da34612a2f97a1470a36014",
            "a5f4a3cca5d542e387e60a2055e15298",
            "94660f6db38e49c484209c325d379388",
            "f99ac9a60b22488cbff7adad4d15f980",
            "9ea776c121ba446fb870074c972ee084"
          ]
        },
        "id": "yERUggG1RTJ2",
        "outputId": "67b5af4c-0b29-4fa5-dafa-3240692ff821"
      },
      "source": [
        "VBox([widgets.Label('Select image'),\n",
        "btn_upload, btn_run, out_pl, lbl_pred])"
      ],
      "execution_count": 20,
      "outputs": [
        {
          "output_type": "display_data",
          "data": {
            "application/vnd.jupyter.widget-view+json": {
              "model_id": "51249e59bf6c4054b3edff0f538770d7",
              "version_minor": 0,
              "version_major": 2
            },
            "text/plain": [
              "VBox(children=(Label(value='Select image'), FileUpload(value={'person1685_virus_2903.jpeg': {'metadata': {'las…"
            ]
          },
          "metadata": {
            "tags": []
          }
        }
      ]
    },
    {
      "cell_type": "code",
      "metadata": {
        "colab": {
          "base_uri": "https://localhost:8080/",
          "height": 1000
        },
        "id": "SWbyX9XjLhCg",
        "outputId": "3454f236-0531-421f-dfcb-3c3c54e7b394"
      },
      "source": [
        "pip install voila"
      ],
      "execution_count": null,
      "outputs": [
        {
          "output_type": "stream",
          "text": [
            "Collecting voila\n",
            "\u001b[?25l  Downloading https://files.pythonhosted.org/packages/50/7d/ef470f3d3c574162bb8705b264f4cb47eac8c923f6bf1e37283f871ead6a/voila-0.2.4-py3-none-any.whl (1.9MB)\n",
            "\u001b[K     |████████████████████████████████| 1.9MB 13.2MB/s \n",
            "\u001b[?25hCollecting jupyter-server<2.0.0,>=0.3.0\n",
            "\u001b[?25l  Downloading https://files.pythonhosted.org/packages/70/0d/fedbcc3d238dacaeee07821d8c2ab7e64825a1dcd12db13f340fa8833b89/jupyter_server-1.1.3-py3-none-any.whl (231kB)\n",
            "\u001b[K     |████████████████████████████████| 235kB 56.5MB/s \n",
            "\u001b[?25hCollecting jupyter-client<7,>=6.1.3\n",
            "\u001b[?25l  Downloading https://files.pythonhosted.org/packages/dc/41/9fa443d5ae8907dd8f7d12146cb0092dc053afd67b5b57e7e8786a328547/jupyter_client-6.1.7-py3-none-any.whl (108kB)\n",
            "\u001b[K     |████████████████████████████████| 112kB 58.9MB/s \n",
            "\u001b[?25hRequirement already satisfied: nbclient<0.6,>=0.4.0 in /usr/local/lib/python3.6/dist-packages (from voila) (0.5.1)\n",
            "Collecting nbconvert<7,>=6.0.0\n",
            "\u001b[?25l  Downloading https://files.pythonhosted.org/packages/13/2f/acbe7006548f3914456ee47f97a2033b1b2f3daf921b12ac94105d87c163/nbconvert-6.0.7-py3-none-any.whl (552kB)\n",
            "\u001b[K     |████████████████████████████████| 552kB 49.4MB/s \n",
            "\u001b[?25hRequirement already satisfied: pyzmq>=17 in /usr/local/lib/python3.6/dist-packages (from jupyter-server<2.0.0,>=0.3.0->voila) (20.0.0)\n",
            "Requirement already satisfied: Send2Trash in /usr/local/lib/python3.6/dist-packages (from jupyter-server<2.0.0,>=0.3.0->voila) (1.5.0)\n",
            "Collecting anyio>=2.0.2\n",
            "\u001b[?25l  Downloading https://files.pythonhosted.org/packages/d7/83/0585a2bafc0898a07f491a001520db9a7b1aaca2369f99590ff2bfe9067a/anyio-2.0.2-py3-none-any.whl (62kB)\n",
            "\u001b[K     |████████████████████████████████| 71kB 12.3MB/s \n",
            "\u001b[?25hRequirement already satisfied: prometheus-client in /usr/local/lib/python3.6/dist-packages (from jupyter-server<2.0.0,>=0.3.0->voila) (0.9.0)\n",
            "Collecting tornado>=6.1.0\n",
            "\u001b[?25l  Downloading https://files.pythonhosted.org/packages/85/26/e710295dcb4aac62b08f22d07efc899574476db37532159a7f71713cdaf2/tornado-6.1-cp36-cp36m-manylinux2010_x86_64.whl (427kB)\n",
            "\u001b[K     |████████████████████████████████| 430kB 53.8MB/s \n",
            "\u001b[?25hRequirement already satisfied: nbformat in /usr/local/lib/python3.6/dist-packages (from jupyter-server<2.0.0,>=0.3.0->voila) (5.0.8)\n",
            "Requirement already satisfied: jupyter-core>=4.4.0 in /usr/local/lib/python3.6/dist-packages (from jupyter-server<2.0.0,>=0.3.0->voila) (4.7.0)\n",
            "Requirement already satisfied: terminado>=0.8.3 in /usr/local/lib/python3.6/dist-packages (from jupyter-server<2.0.0,>=0.3.0->voila) (0.9.1)\n",
            "Requirement already satisfied: traitlets>=4.2.1 in /usr/local/lib/python3.6/dist-packages (from jupyter-server<2.0.0,>=0.3.0->voila) (4.3.3)\n",
            "Requirement already satisfied: jinja2 in /usr/local/lib/python3.6/dist-packages (from jupyter-server<2.0.0,>=0.3.0->voila) (2.11.2)\n",
            "Requirement already satisfied: ipython-genutils in /usr/local/lib/python3.6/dist-packages (from jupyter-server<2.0.0,>=0.3.0->voila) (0.2.0)\n",
            "Requirement already satisfied: python-dateutil>=2.1 in /usr/local/lib/python3.6/dist-packages (from jupyter-client<7,>=6.1.3->voila) (2.8.1)\n",
            "Requirement already satisfied: async-generator in /usr/local/lib/python3.6/dist-packages (from nbclient<0.6,>=0.4.0->voila) (1.10)\n",
            "Requirement already satisfied: nest-asyncio in /usr/local/lib/python3.6/dist-packages (from nbclient<0.6,>=0.4.0->voila) (1.4.3)\n",
            "Requirement already satisfied: entrypoints>=0.2.2 in /usr/local/lib/python3.6/dist-packages (from nbconvert<7,>=6.0.0->voila) (0.3)\n",
            "Requirement already satisfied: mistune<2,>=0.8.1 in /usr/local/lib/python3.6/dist-packages (from nbconvert<7,>=6.0.0->voila) (0.8.4)\n",
            "Requirement already satisfied: pygments>=2.4.1 in /usr/local/lib/python3.6/dist-packages (from nbconvert<7,>=6.0.0->voila) (2.6.1)\n",
            "Requirement already satisfied: testpath in /usr/local/lib/python3.6/dist-packages (from nbconvert<7,>=6.0.0->voila) (0.4.4)\n",
            "Requirement already satisfied: pandocfilters>=1.4.1 in /usr/local/lib/python3.6/dist-packages (from nbconvert<7,>=6.0.0->voila) (1.4.3)\n",
            "Requirement already satisfied: defusedxml in /usr/local/lib/python3.6/dist-packages (from nbconvert<7,>=6.0.0->voila) (0.6.0)\n",
            "Requirement already satisfied: bleach in /usr/local/lib/python3.6/dist-packages (from nbconvert<7,>=6.0.0->voila) (3.2.1)\n",
            "Requirement already satisfied: jupyterlab-pygments in /usr/local/lib/python3.6/dist-packages (from nbconvert<7,>=6.0.0->voila) (0.1.2)\n",
            "Requirement already satisfied: dataclasses; python_version < \"3.7\" in /usr/local/lib/python3.6/dist-packages (from anyio>=2.0.2->jupyter-server<2.0.0,>=0.3.0->voila) (0.8)\n",
            "Requirement already satisfied: idna>=2.8 in /usr/local/lib/python3.6/dist-packages (from anyio>=2.0.2->jupyter-server<2.0.0,>=0.3.0->voila) (2.10)\n",
            "Requirement already satisfied: typing-extensions; python_version < \"3.8\" in /usr/local/lib/python3.6/dist-packages (from anyio>=2.0.2->jupyter-server<2.0.0,>=0.3.0->voila) (3.7.4.3)\n",
            "Collecting sniffio>=1.1\n",
            "  Downloading https://files.pythonhosted.org/packages/52/b0/7b2e028b63d092804b6794595871f936aafa5e9322dcaaad50ebf67445b3/sniffio-1.2.0-py3-none-any.whl\n",
            "Requirement already satisfied: jsonschema!=2.5.0,>=2.4 in /usr/local/lib/python3.6/dist-packages (from nbformat->jupyter-server<2.0.0,>=0.3.0->voila) (2.6.0)\n",
            "Requirement already satisfied: ptyprocess; os_name != \"nt\" in /usr/local/lib/python3.6/dist-packages (from terminado>=0.8.3->jupyter-server<2.0.0,>=0.3.0->voila) (0.6.0)\n",
            "Requirement already satisfied: decorator in /usr/local/lib/python3.6/dist-packages (from traitlets>=4.2.1->jupyter-server<2.0.0,>=0.3.0->voila) (4.4.2)\n",
            "Requirement already satisfied: six in /usr/local/lib/python3.6/dist-packages (from traitlets>=4.2.1->jupyter-server<2.0.0,>=0.3.0->voila) (1.15.0)\n",
            "Requirement already satisfied: MarkupSafe>=0.23 in /usr/local/lib/python3.6/dist-packages (from jinja2->jupyter-server<2.0.0,>=0.3.0->voila) (1.1.1)\n",
            "Requirement already satisfied: packaging in /usr/local/lib/python3.6/dist-packages (from bleach->nbconvert<7,>=6.0.0->voila) (20.8)\n",
            "Requirement already satisfied: webencodings in /usr/local/lib/python3.6/dist-packages (from bleach->nbconvert<7,>=6.0.0->voila) (0.5.1)\n",
            "Collecting contextvars>=2.1; python_version < \"3.7\"\n",
            "  Downloading https://files.pythonhosted.org/packages/83/96/55b82d9f13763be9d672622e1b8106c85acb83edd7cc2fa5bc67cd9877e9/contextvars-2.4.tar.gz\n",
            "Requirement already satisfied: pyparsing>=2.0.2 in /usr/local/lib/python3.6/dist-packages (from packaging->bleach->nbconvert<7,>=6.0.0->voila) (2.4.7)\n",
            "Collecting immutables>=0.9\n",
            "\u001b[?25l  Downloading https://files.pythonhosted.org/packages/99/e0/ea6fd4697120327d26773b5a84853f897a68e33d3f9376b00a8ff96e4f63/immutables-0.14-cp36-cp36m-manylinux1_x86_64.whl (98kB)\n",
            "\u001b[K     |████████████████████████████████| 102kB 14.5MB/s \n",
            "\u001b[?25hBuilding wheels for collected packages: contextvars\n",
            "  Building wheel for contextvars (setup.py) ... \u001b[?25l\u001b[?25hdone\n",
            "  Created wheel for contextvars: filename=contextvars-2.4-cp36-none-any.whl size=7667 sha256=ea8d7dbb1c36f6b2c82bdea405851e8c6c1c1e1c4652271db55ebd33a180fd69\n",
            "  Stored in directory: /root/.cache/pip/wheels/a5/7d/68/1ebae2668bda2228686e3c1cf16f2c2384cea6e9334ad5f6de\n",
            "Successfully built contextvars\n",
            "\u001b[31mERROR: google-colab 1.0.0 has requirement tornado~=5.1.0; python_version >= \"3.0\", but you'll have tornado 6.1 which is incompatible.\u001b[0m\n",
            "Installing collected packages: immutables, contextvars, sniffio, anyio, tornado, nbconvert, jupyter-client, jupyter-server, voila\n",
            "  Found existing installation: tornado 5.1.1\n",
            "    Uninstalling tornado-5.1.1:\n",
            "      Successfully uninstalled tornado-5.1.1\n",
            "  Found existing installation: nbconvert 5.6.1\n",
            "    Uninstalling nbconvert-5.6.1:\n",
            "      Successfully uninstalled nbconvert-5.6.1\n",
            "  Found existing installation: jupyter-client 5.3.5\n",
            "    Uninstalling jupyter-client-5.3.5:\n",
            "      Successfully uninstalled jupyter-client-5.3.5\n",
            "Successfully installed anyio-2.0.2 contextvars-2.4 immutables-0.14 jupyter-client-6.1.7 jupyter-server-1.1.3 nbconvert-6.0.7 sniffio-1.2.0 tornado-6.1 voila-0.2.4\n"
          ],
          "name": "stdout"
        },
        {
          "output_type": "display_data",
          "data": {
            "application/vnd.colab-display-data+json": {
              "pip_warning": {
                "packages": [
                  "jupyter_client",
                  "tornado"
                ]
              }
            }
          },
          "metadata": {
            "tags": []
          }
        }
      ]
    },
    {
      "cell_type": "code",
      "metadata": {
        "colab": {
          "base_uri": "https://localhost:8080/"
        },
        "id": "9A98ck85sDIz",
        "outputId": "155df6c7-770a-44ad-ae75-778491156307"
      },
      "source": [
        "!pip install voila"
      ],
      "execution_count": null,
      "outputs": [
        {
          "output_type": "stream",
          "text": [
            "Requirement already satisfied: voila in /usr/local/lib/python3.6/dist-packages (0.2.4)\n",
            "Requirement already satisfied: jupyter-server<2.0.0,>=0.3.0 in /usr/local/lib/python3.6/dist-packages (from voila) (1.1.3)\n",
            "Requirement already satisfied: jupyter-client<7,>=6.1.3 in /usr/local/lib/python3.6/dist-packages (from voila) (6.1.7)\n",
            "Requirement already satisfied: nbconvert<7,>=6.0.0 in /usr/local/lib/python3.6/dist-packages (from voila) (6.0.7)\n",
            "Requirement already satisfied: nbclient<0.6,>=0.4.0 in /usr/local/lib/python3.6/dist-packages (from voila) (0.5.1)\n",
            "Requirement already satisfied: anyio>=2.0.2 in /usr/local/lib/python3.6/dist-packages (from jupyter-server<2.0.0,>=0.3.0->voila) (2.0.2)\n",
            "Requirement already satisfied: Send2Trash in /usr/local/lib/python3.6/dist-packages (from jupyter-server<2.0.0,>=0.3.0->voila) (1.5.0)\n",
            "Requirement already satisfied: nbformat in /usr/local/lib/python3.6/dist-packages (from jupyter-server<2.0.0,>=0.3.0->voila) (5.0.8)\n",
            "Requirement already satisfied: jupyter-core>=4.4.0 in /usr/local/lib/python3.6/dist-packages (from jupyter-server<2.0.0,>=0.3.0->voila) (4.7.0)\n",
            "Requirement already satisfied: traitlets>=4.2.1 in /usr/local/lib/python3.6/dist-packages (from jupyter-server<2.0.0,>=0.3.0->voila) (4.3.3)\n",
            "Requirement already satisfied: ipython-genutils in /usr/local/lib/python3.6/dist-packages (from jupyter-server<2.0.0,>=0.3.0->voila) (0.2.0)\n",
            "Requirement already satisfied: prometheus-client in /usr/local/lib/python3.6/dist-packages (from jupyter-server<2.0.0,>=0.3.0->voila) (0.9.0)\n",
            "Requirement already satisfied: jinja2 in /usr/local/lib/python3.6/dist-packages (from jupyter-server<2.0.0,>=0.3.0->voila) (2.11.2)\n",
            "Requirement already satisfied: pyzmq>=17 in /usr/local/lib/python3.6/dist-packages (from jupyter-server<2.0.0,>=0.3.0->voila) (20.0.0)\n",
            "Requirement already satisfied: tornado>=6.1.0 in /usr/local/lib/python3.6/dist-packages (from jupyter-server<2.0.0,>=0.3.0->voila) (6.1)\n",
            "Requirement already satisfied: terminado>=0.8.3 in /usr/local/lib/python3.6/dist-packages (from jupyter-server<2.0.0,>=0.3.0->voila) (0.9.1)\n",
            "Requirement already satisfied: python-dateutil>=2.1 in /usr/local/lib/python3.6/dist-packages (from jupyter-client<7,>=6.1.3->voila) (2.8.1)\n",
            "Requirement already satisfied: pandocfilters>=1.4.1 in /usr/local/lib/python3.6/dist-packages (from nbconvert<7,>=6.0.0->voila) (1.4.3)\n",
            "Requirement already satisfied: bleach in /usr/local/lib/python3.6/dist-packages (from nbconvert<7,>=6.0.0->voila) (3.2.1)\n",
            "Requirement already satisfied: entrypoints>=0.2.2 in /usr/local/lib/python3.6/dist-packages (from nbconvert<7,>=6.0.0->voila) (0.3)\n",
            "Requirement already satisfied: pygments>=2.4.1 in /usr/local/lib/python3.6/dist-packages (from nbconvert<7,>=6.0.0->voila) (2.6.1)\n",
            "Requirement already satisfied: defusedxml in /usr/local/lib/python3.6/dist-packages (from nbconvert<7,>=6.0.0->voila) (0.6.0)\n",
            "Requirement already satisfied: mistune<2,>=0.8.1 in /usr/local/lib/python3.6/dist-packages (from nbconvert<7,>=6.0.0->voila) (0.8.4)\n",
            "Requirement already satisfied: testpath in /usr/local/lib/python3.6/dist-packages (from nbconvert<7,>=6.0.0->voila) (0.4.4)\n",
            "Requirement already satisfied: jupyterlab-pygments in /usr/local/lib/python3.6/dist-packages (from nbconvert<7,>=6.0.0->voila) (0.1.2)\n",
            "Requirement already satisfied: nest-asyncio in /usr/local/lib/python3.6/dist-packages (from nbclient<0.6,>=0.4.0->voila) (1.4.3)\n",
            "Requirement already satisfied: async-generator in /usr/local/lib/python3.6/dist-packages (from nbclient<0.6,>=0.4.0->voila) (1.10)\n",
            "Requirement already satisfied: typing-extensions; python_version < \"3.8\" in /usr/local/lib/python3.6/dist-packages (from anyio>=2.0.2->jupyter-server<2.0.0,>=0.3.0->voila) (3.7.4.3)\n",
            "Requirement already satisfied: idna>=2.8 in /usr/local/lib/python3.6/dist-packages (from anyio>=2.0.2->jupyter-server<2.0.0,>=0.3.0->voila) (2.10)\n",
            "Requirement already satisfied: sniffio>=1.1 in /usr/local/lib/python3.6/dist-packages (from anyio>=2.0.2->jupyter-server<2.0.0,>=0.3.0->voila) (1.2.0)\n",
            "Requirement already satisfied: dataclasses; python_version < \"3.7\" in /usr/local/lib/python3.6/dist-packages (from anyio>=2.0.2->jupyter-server<2.0.0,>=0.3.0->voila) (0.8)\n",
            "Requirement already satisfied: jsonschema!=2.5.0,>=2.4 in /usr/local/lib/python3.6/dist-packages (from nbformat->jupyter-server<2.0.0,>=0.3.0->voila) (2.6.0)\n",
            "Requirement already satisfied: six in /usr/local/lib/python3.6/dist-packages (from traitlets>=4.2.1->jupyter-server<2.0.0,>=0.3.0->voila) (1.15.0)\n",
            "Requirement already satisfied: decorator in /usr/local/lib/python3.6/dist-packages (from traitlets>=4.2.1->jupyter-server<2.0.0,>=0.3.0->voila) (4.4.2)\n",
            "Requirement already satisfied: MarkupSafe>=0.23 in /usr/local/lib/python3.6/dist-packages (from jinja2->jupyter-server<2.0.0,>=0.3.0->voila) (1.1.1)\n",
            "Requirement already satisfied: ptyprocess; os_name != \"nt\" in /usr/local/lib/python3.6/dist-packages (from terminado>=0.8.3->jupyter-server<2.0.0,>=0.3.0->voila) (0.6.0)\n",
            "Requirement already satisfied: packaging in /usr/local/lib/python3.6/dist-packages (from bleach->nbconvert<7,>=6.0.0->voila) (20.8)\n",
            "Requirement already satisfied: webencodings in /usr/local/lib/python3.6/dist-packages (from bleach->nbconvert<7,>=6.0.0->voila) (0.5.1)\n",
            "Requirement already satisfied: contextvars>=2.1; python_version < \"3.7\" in /usr/local/lib/python3.6/dist-packages (from sniffio>=1.1->anyio>=2.0.2->jupyter-server<2.0.0,>=0.3.0->voila) (2.4)\n",
            "Requirement already satisfied: pyparsing>=2.0.2 in /usr/local/lib/python3.6/dist-packages (from packaging->bleach->nbconvert<7,>=6.0.0->voila) (2.4.7)\n",
            "Requirement already satisfied: immutables>=0.9 in /usr/local/lib/python3.6/dist-packages (from contextvars>=2.1; python_version < \"3.7\"->sniffio>=1.1->anyio>=2.0.2->jupyter-server<2.0.0,>=0.3.0->voila) (0.14)\n"
          ],
          "name": "stdout"
        }
      ]
    },
    {
      "cell_type": "code",
      "metadata": {
        "colab": {
          "base_uri": "https://localhost:8080/",
          "height": 129
        },
        "id": "hNcFQE6duoQh",
        "outputId": "312fe453-b3f9-422b-d26c-524d96b46f8d"
      },
      "source": [
        "serverextension enable voila --sys-prefix"
      ],
      "execution_count": null,
      "outputs": [
        {
          "output_type": "error",
          "ename": "SyntaxError",
          "evalue": "ignored",
          "traceback": [
            "\u001b[0;36m  File \u001b[0;32m\"<ipython-input-42-f23ca3e4adc1>\"\u001b[0;36m, line \u001b[0;32m1\u001b[0m\n\u001b[0;31m    serverextension enable voila --sys-prefix\u001b[0m\n\u001b[0m                         ^\u001b[0m\n\u001b[0;31mSyntaxError\u001b[0m\u001b[0;31m:\u001b[0m invalid syntax\n"
          ]
        }
      ]
    },
    {
      "cell_type": "code",
      "metadata": {
        "colab": {
          "base_uri": "https://localhost:8080/"
        },
        "id": "hmLWjW1ivqx2",
        "outputId": "4fc70dee-eec3-4601-c35b-53711a3dde8b"
      },
      "source": [
        "!pip install voila\r\n",
        "!jupyter serverextension enable voila --sys-prefix"
      ],
      "execution_count": null,
      "outputs": [
        {
          "output_type": "stream",
          "text": [
            "Requirement already satisfied: voila in /usr/local/lib/python3.6/dist-packages (0.2.4)\n",
            "Requirement already satisfied: nbclient<0.6,>=0.4.0 in /usr/local/lib/python3.6/dist-packages (from voila) (0.5.1)\n",
            "Collecting nbconvert<7,>=6.0.0\n",
            "  Using cached https://files.pythonhosted.org/packages/13/2f/acbe7006548f3914456ee47f97a2033b1b2f3daf921b12ac94105d87c163/nbconvert-6.0.7-py3-none-any.whl\n",
            "Requirement already satisfied: jupyter-server<2.0.0,>=0.3.0 in /usr/local/lib/python3.6/dist-packages (from voila) (1.1.3)\n",
            "Requirement already satisfied: jupyter-client<7,>=6.1.3 in /usr/local/lib/python3.6/dist-packages (from voila) (6.1.7)\n",
            "Requirement already satisfied: async-generator in /usr/local/lib/python3.6/dist-packages (from nbclient<0.6,>=0.4.0->voila) (1.10)\n",
            "Requirement already satisfied: nest-asyncio in /usr/local/lib/python3.6/dist-packages (from nbclient<0.6,>=0.4.0->voila) (1.4.3)\n",
            "Requirement already satisfied: nbformat>=5.0 in /usr/local/lib/python3.6/dist-packages (from nbclient<0.6,>=0.4.0->voila) (5.0.8)\n",
            "Requirement already satisfied: traitlets>=4.2 in /usr/local/lib/python3.6/dist-packages (from nbclient<0.6,>=0.4.0->voila) (4.3.3)\n",
            "Requirement already satisfied: entrypoints>=0.2.2 in /usr/local/lib/python3.6/dist-packages (from nbconvert<7,>=6.0.0->voila) (0.3)\n",
            "Requirement already satisfied: pygments>=2.4.1 in /usr/local/lib/python3.6/dist-packages (from nbconvert<7,>=6.0.0->voila) (2.6.1)\n",
            "Requirement already satisfied: testpath in /usr/local/lib/python3.6/dist-packages (from nbconvert<7,>=6.0.0->voila) (0.4.4)\n",
            "Requirement already satisfied: bleach in /usr/local/lib/python3.6/dist-packages (from nbconvert<7,>=6.0.0->voila) (3.2.1)\n",
            "Requirement already satisfied: jinja2>=2.4 in /usr/local/lib/python3.6/dist-packages (from nbconvert<7,>=6.0.0->voila) (2.11.2)\n",
            "Requirement already satisfied: jupyter-core in /usr/local/lib/python3.6/dist-packages (from nbconvert<7,>=6.0.0->voila) (4.7.0)\n",
            "Requirement already satisfied: jupyterlab-pygments in /usr/local/lib/python3.6/dist-packages (from nbconvert<7,>=6.0.0->voila) (0.1.2)\n",
            "Requirement already satisfied: defusedxml in /usr/local/lib/python3.6/dist-packages (from nbconvert<7,>=6.0.0->voila) (0.6.0)\n",
            "Requirement already satisfied: mistune<2,>=0.8.1 in /usr/local/lib/python3.6/dist-packages (from nbconvert<7,>=6.0.0->voila) (0.8.4)\n",
            "Requirement already satisfied: pandocfilters>=1.4.1 in /usr/local/lib/python3.6/dist-packages (from nbconvert<7,>=6.0.0->voila) (1.4.3)\n",
            "Requirement already satisfied: tornado>=6.1.0 in /usr/local/lib/python3.6/dist-packages (from jupyter-server<2.0.0,>=0.3.0->voila) (6.1)\n",
            "Requirement already satisfied: pyzmq>=17 in /usr/local/lib/python3.6/dist-packages (from jupyter-server<2.0.0,>=0.3.0->voila) (20.0.0)\n",
            "Requirement already satisfied: prometheus-client in /usr/local/lib/python3.6/dist-packages (from jupyter-server<2.0.0,>=0.3.0->voila) (0.9.0)\n",
            "Requirement already satisfied: ipython-genutils in /usr/local/lib/python3.6/dist-packages (from jupyter-server<2.0.0,>=0.3.0->voila) (0.2.0)\n",
            "Requirement already satisfied: Send2Trash in /usr/local/lib/python3.6/dist-packages (from jupyter-server<2.0.0,>=0.3.0->voila) (1.5.0)\n",
            "Requirement already satisfied: anyio>=2.0.2 in /usr/local/lib/python3.6/dist-packages (from jupyter-server<2.0.0,>=0.3.0->voila) (2.0.2)\n",
            "Requirement already satisfied: terminado>=0.8.3 in /usr/local/lib/python3.6/dist-packages (from jupyter-server<2.0.0,>=0.3.0->voila) (0.9.1)\n",
            "Requirement already satisfied: python-dateutil>=2.1 in /usr/local/lib/python3.6/dist-packages (from jupyter-client<7,>=6.1.3->voila) (2.8.1)\n",
            "Requirement already satisfied: jsonschema!=2.5.0,>=2.4 in /usr/local/lib/python3.6/dist-packages (from nbformat>=5.0->nbclient<0.6,>=0.4.0->voila) (2.6.0)\n",
            "Requirement already satisfied: six in /usr/local/lib/python3.6/dist-packages (from traitlets>=4.2->nbclient<0.6,>=0.4.0->voila) (1.15.0)\n",
            "Requirement already satisfied: decorator in /usr/local/lib/python3.6/dist-packages (from traitlets>=4.2->nbclient<0.6,>=0.4.0->voila) (4.4.2)\n",
            "Requirement already satisfied: packaging in /usr/local/lib/python3.6/dist-packages (from bleach->nbconvert<7,>=6.0.0->voila) (20.8)\n",
            "Requirement already satisfied: webencodings in /usr/local/lib/python3.6/dist-packages (from bleach->nbconvert<7,>=6.0.0->voila) (0.5.1)\n",
            "Requirement already satisfied: MarkupSafe>=0.23 in /usr/local/lib/python3.6/dist-packages (from jinja2>=2.4->nbconvert<7,>=6.0.0->voila) (1.1.1)\n",
            "Requirement already satisfied: dataclasses; python_version < \"3.7\" in /usr/local/lib/python3.6/dist-packages (from anyio>=2.0.2->jupyter-server<2.0.0,>=0.3.0->voila) (0.8)\n",
            "Requirement already satisfied: sniffio>=1.1 in /usr/local/lib/python3.6/dist-packages (from anyio>=2.0.2->jupyter-server<2.0.0,>=0.3.0->voila) (1.2.0)\n",
            "Requirement already satisfied: typing-extensions; python_version < \"3.8\" in /usr/local/lib/python3.6/dist-packages (from anyio>=2.0.2->jupyter-server<2.0.0,>=0.3.0->voila) (3.7.4.3)\n",
            "Requirement already satisfied: idna>=2.8 in /usr/local/lib/python3.6/dist-packages (from anyio>=2.0.2->jupyter-server<2.0.0,>=0.3.0->voila) (2.10)\n",
            "Requirement already satisfied: ptyprocess; os_name != \"nt\" in /usr/local/lib/python3.6/dist-packages (from terminado>=0.8.3->jupyter-server<2.0.0,>=0.3.0->voila) (0.6.0)\n",
            "Requirement already satisfied: pyparsing>=2.0.2 in /usr/local/lib/python3.6/dist-packages (from packaging->bleach->nbconvert<7,>=6.0.0->voila) (2.4.7)\n",
            "Requirement already satisfied: contextvars>=2.1; python_version < \"3.7\" in /usr/local/lib/python3.6/dist-packages (from sniffio>=1.1->anyio>=2.0.2->jupyter-server<2.0.0,>=0.3.0->voila) (2.4)\n",
            "Requirement already satisfied: immutables>=0.9 in /usr/local/lib/python3.6/dist-packages (from contextvars>=2.1; python_version < \"3.7\"->sniffio>=1.1->anyio>=2.0.2->jupyter-server<2.0.0,>=0.3.0->voila) (0.14)\n",
            "\u001b[31mERROR: nbdev 1.1.5 has requirement nbconvert<6, but you'll have nbconvert 6.0.7 which is incompatible.\u001b[0m\n",
            "\u001b[31mERROR: google-colab 1.0.0 has requirement tornado~=5.1.0; python_version >= \"3.0\", but you'll have tornado 6.1 which is incompatible.\u001b[0m\n",
            "Installing collected packages: nbconvert\n",
            "  Found existing installation: nbconvert 5.6.1\n",
            "    Uninstalling nbconvert-5.6.1:\n",
            "      Successfully uninstalled nbconvert-5.6.1\n",
            "Successfully installed nbconvert-6.0.7\n",
            "Enabling: voila\n",
            "- Writing config: /usr/etc/jupyter\n",
            "    - Validating...\n",
            "Error loading server extension voila\n",
            "     \u001b[31m X\u001b[0m is voila importable?\n"
          ],
          "name": "stdout"
        }
      ]
    },
    {
      "cell_type": "markdown",
      "metadata": {
        "id": "bKTK6h8Ao1FN"
      },
      "source": [
        "# New section"
      ]
    },
    {
      "cell_type": "code",
      "metadata": {
        "id": "KnnHIREjwJJf"
      },
      "source": [
        ""
      ],
      "execution_count": null,
      "outputs": []
    }
  ]
}