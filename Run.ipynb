{
  "nbformat": 4,
  "nbformat_minor": 0,
  "metadata": {
    "colab": {
      "name": "Run.ipynb",
      "provenance": [],
      "mount_file_id": "1W-AAdHkS52r1kupiEeemDvfmIHm8gu_7",
      "authorship_tag": "ABX9TyMPbnxD7xmfMw2JOncDKxg2",
      "include_colab_link": true
    },
    "kernelspec": {
      "name": "python3",
      "display_name": "Python 3"
    },
    "widgets": {
      "application/vnd.jupyter.widget-state+json": {
        "e7644065924f4dab89acd653d5897ee7": {
          "model_module": "@jupyter-widgets/controls",
          "model_name": "VBoxModel",
          "state": {
            "_view_name": "VBoxView",
            "_dom_classes": [],
            "_model_name": "VBoxModel",
            "_view_module": "@jupyter-widgets/controls",
            "_model_module_version": "1.5.0",
            "_view_count": null,
            "_view_module_version": "1.5.0",
            "box_style": "",
            "layout": "IPY_MODEL_c32ec18f150c4ab2a18aa7efb1fcb542",
            "_model_module": "@jupyter-widgets/controls",
            "children": [
              "IPY_MODEL_55d63de42c7f419a92d8c0dca634724c",
              "IPY_MODEL_f69fa469cd874e14a5480254ccf20a93",
              "IPY_MODEL_99f925fa0d2a4504be398df26adc299d",
              "IPY_MODEL_f7e25c440db6454e9b9f48bb75070589",
              "IPY_MODEL_38517bbf4f96443fa361a0587088f417"
            ]
          }
        },
        "c32ec18f150c4ab2a18aa7efb1fcb542": {
          "model_module": "@jupyter-widgets/base",
          "model_name": "LayoutModel",
          "state": {
            "_view_name": "LayoutView",
            "grid_template_rows": null,
            "right": null,
            "justify_content": null,
            "_view_module": "@jupyter-widgets/base",
            "overflow": null,
            "_model_module_version": "1.2.0",
            "_view_count": null,
            "flex_flow": null,
            "width": null,
            "min_width": null,
            "border": null,
            "align_items": null,
            "bottom": null,
            "_model_module": "@jupyter-widgets/base",
            "top": null,
            "grid_column": null,
            "overflow_y": null,
            "overflow_x": null,
            "grid_auto_flow": null,
            "grid_area": null,
            "grid_template_columns": null,
            "flex": null,
            "_model_name": "LayoutModel",
            "justify_items": null,
            "grid_row": null,
            "max_height": null,
            "align_content": null,
            "visibility": null,
            "align_self": null,
            "height": null,
            "min_height": null,
            "padding": null,
            "grid_auto_rows": null,
            "grid_gap": null,
            "max_width": null,
            "order": null,
            "_view_module_version": "1.2.0",
            "grid_template_areas": null,
            "object_position": null,
            "object_fit": null,
            "grid_auto_columns": null,
            "margin": null,
            "display": null,
            "left": null
          }
        },
        "55d63de42c7f419a92d8c0dca634724c": {
          "model_module": "@jupyter-widgets/controls",
          "model_name": "LabelModel",
          "state": {
            "_view_name": "LabelView",
            "style": "IPY_MODEL_e72e7f42f27149ebb0de1c90f9ffef5e",
            "_dom_classes": [],
            "description": "",
            "_model_name": "LabelModel",
            "placeholder": "​",
            "_view_module": "@jupyter-widgets/controls",
            "_model_module_version": "1.5.0",
            "value": "Classify Image! False: Pneumonia Positive  True: Pneumonia Negative",
            "_view_count": null,
            "_view_module_version": "1.5.0",
            "description_tooltip": null,
            "_model_module": "@jupyter-widgets/controls",
            "layout": "IPY_MODEL_23f2f3fe770b47fd87cb39a24bb1ad08"
          }
        },
        "f69fa469cd874e14a5480254ccf20a93": {
          "model_module": "@jupyter-widgets/controls",
          "model_name": "FileUploadModel",
          "state": {
            "_view_name": "FileUploadView",
            "_counter": 2,
            "style": "IPY_MODEL_e730c3cafbb147a09a7afbf6720a28d6",
            "_dom_classes": [],
            "description": "Upload",
            "multiple": false,
            "_model_name": "FileUploadModel",
            "data": [
              null
            ],
            "button_style": "",
            "_view_module": "@jupyter-widgets/controls",
            "_model_module_version": "1.5.0",
            "accept": "",
            "_view_count": null,
            "disabled": false,
            "_view_module_version": "1.5.0",
            "error": "",
            "description_tooltip": null,
            "metadata": [
              {
                "name": "NORMAL2-IM-0376-0001.jpeg",
                "type": "image/jpeg",
                "size": 69989,
                "lastModified": 1604853998524
              }
            ],
            "_model_module": "@jupyter-widgets/controls",
            "layout": "IPY_MODEL_ab4795fb23304146b6d92cde4d303fd3",
            "icon": "upload"
          }
        },
        "99f925fa0d2a4504be398df26adc299d": {
          "model_module": "@jupyter-widgets/controls",
          "model_name": "ButtonModel",
          "state": {
            "_view_name": "ButtonView",
            "style": "IPY_MODEL_3a87ded020e341b6b96b25d195988584",
            "_dom_classes": [],
            "description": "Classify",
            "_model_name": "ButtonModel",
            "button_style": "",
            "_view_module": "@jupyter-widgets/controls",
            "_model_module_version": "1.5.0",
            "tooltip": "",
            "_view_count": null,
            "disabled": false,
            "_view_module_version": "1.5.0",
            "layout": "IPY_MODEL_7577ccd4ac5b43058875dc1af55a627f",
            "_model_module": "@jupyter-widgets/controls",
            "icon": ""
          }
        },
        "f7e25c440db6454e9b9f48bb75070589": {
          "model_module": "@jupyter-widgets/output",
          "model_name": "OutputModel",
          "state": {
            "_view_name": "OutputView",
            "msg_id": "",
            "_dom_classes": [],
            "_model_name": "OutputModel",
            "outputs": [
              {
                "output_type": "display_data",
                "metadata": {
                  "tags": []
                },
                "image/png": "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\n",
                "text/plain": "<PIL.Image.Image image mode=RGB size=128x82 at 0x7F19977EDCC0>"
              }
            ],
            "_view_module": "@jupyter-widgets/output",
            "_model_module_version": "1.0.0",
            "_view_count": null,
            "_view_module_version": "1.0.0",
            "layout": "IPY_MODEL_6a9cc0eea47d4bea8fca6dfb74fb4826",
            "_model_module": "@jupyter-widgets/output"
          }
        },
        "38517bbf4f96443fa361a0587088f417": {
          "model_module": "@jupyter-widgets/controls",
          "model_name": "LabelModel",
          "state": {
            "_view_name": "LabelView",
            "style": "IPY_MODEL_77825524885143b78f62bdc6c6be7f90",
            "_dom_classes": [],
            "description": "",
            "_model_name": "LabelModel",
            "placeholder": "​",
            "_view_module": "@jupyter-widgets/controls",
            "_model_module_version": "1.5.0",
            "value": "Prediction: False; Probability: 0.5290",
            "_view_count": null,
            "_view_module_version": "1.5.0",
            "description_tooltip": null,
            "_model_module": "@jupyter-widgets/controls",
            "layout": "IPY_MODEL_e0e8a5e6dbb24758924c3194cee3ce14"
          }
        },
        "e72e7f42f27149ebb0de1c90f9ffef5e": {
          "model_module": "@jupyter-widgets/controls",
          "model_name": "DescriptionStyleModel",
          "state": {
            "_view_name": "StyleView",
            "_model_name": "DescriptionStyleModel",
            "description_width": "",
            "_view_module": "@jupyter-widgets/base",
            "_model_module_version": "1.5.0",
            "_view_count": null,
            "_view_module_version": "1.2.0",
            "_model_module": "@jupyter-widgets/controls"
          }
        },
        "23f2f3fe770b47fd87cb39a24bb1ad08": {
          "model_module": "@jupyter-widgets/base",
          "model_name": "LayoutModel",
          "state": {
            "_view_name": "LayoutView",
            "grid_template_rows": null,
            "right": null,
            "justify_content": null,
            "_view_module": "@jupyter-widgets/base",
            "overflow": null,
            "_model_module_version": "1.2.0",
            "_view_count": null,
            "flex_flow": null,
            "width": null,
            "min_width": null,
            "border": null,
            "align_items": null,
            "bottom": null,
            "_model_module": "@jupyter-widgets/base",
            "top": null,
            "grid_column": null,
            "overflow_y": null,
            "overflow_x": null,
            "grid_auto_flow": null,
            "grid_area": null,
            "grid_template_columns": null,
            "flex": null,
            "_model_name": "LayoutModel",
            "justify_items": null,
            "grid_row": null,
            "max_height": null,
            "align_content": null,
            "visibility": null,
            "align_self": null,
            "height": null,
            "min_height": null,
            "padding": null,
            "grid_auto_rows": null,
            "grid_gap": null,
            "max_width": null,
            "order": null,
            "_view_module_version": "1.2.0",
            "grid_template_areas": null,
            "object_position": null,
            "object_fit": null,
            "grid_auto_columns": null,
            "margin": null,
            "display": null,
            "left": null
          }
        },
        "e730c3cafbb147a09a7afbf6720a28d6": {
          "model_module": "@jupyter-widgets/controls",
          "model_name": "ButtonStyleModel",
          "state": {
            "_view_name": "StyleView",
            "_model_name": "ButtonStyleModel",
            "_view_module": "@jupyter-widgets/base",
            "_model_module_version": "1.5.0",
            "_view_count": null,
            "button_color": null,
            "font_weight": "",
            "_view_module_version": "1.2.0",
            "_model_module": "@jupyter-widgets/controls"
          }
        },
        "ab4795fb23304146b6d92cde4d303fd3": {
          "model_module": "@jupyter-widgets/base",
          "model_name": "LayoutModel",
          "state": {
            "_view_name": "LayoutView",
            "grid_template_rows": null,
            "right": null,
            "justify_content": null,
            "_view_module": "@jupyter-widgets/base",
            "overflow": null,
            "_model_module_version": "1.2.0",
            "_view_count": null,
            "flex_flow": null,
            "width": null,
            "min_width": null,
            "border": null,
            "align_items": null,
            "bottom": null,
            "_model_module": "@jupyter-widgets/base",
            "top": null,
            "grid_column": null,
            "overflow_y": null,
            "overflow_x": null,
            "grid_auto_flow": null,
            "grid_area": null,
            "grid_template_columns": null,
            "flex": null,
            "_model_name": "LayoutModel",
            "justify_items": null,
            "grid_row": null,
            "max_height": null,
            "align_content": null,
            "visibility": null,
            "align_self": null,
            "height": null,
            "min_height": null,
            "padding": null,
            "grid_auto_rows": null,
            "grid_gap": null,
            "max_width": null,
            "order": null,
            "_view_module_version": "1.2.0",
            "grid_template_areas": null,
            "object_position": null,
            "object_fit": null,
            "grid_auto_columns": null,
            "margin": null,
            "display": null,
            "left": null
          }
        },
        "3a87ded020e341b6b96b25d195988584": {
          "model_module": "@jupyter-widgets/controls",
          "model_name": "ButtonStyleModel",
          "state": {
            "_view_name": "StyleView",
            "_model_name": "ButtonStyleModel",
            "_view_module": "@jupyter-widgets/base",
            "_model_module_version": "1.5.0",
            "_view_count": null,
            "button_color": null,
            "font_weight": "",
            "_view_module_version": "1.2.0",
            "_model_module": "@jupyter-widgets/controls"
          }
        },
        "7577ccd4ac5b43058875dc1af55a627f": {
          "model_module": "@jupyter-widgets/base",
          "model_name": "LayoutModel",
          "state": {
            "_view_name": "LayoutView",
            "grid_template_rows": null,
            "right": null,
            "justify_content": null,
            "_view_module": "@jupyter-widgets/base",
            "overflow": null,
            "_model_module_version": "1.2.0",
            "_view_count": null,
            "flex_flow": null,
            "width": null,
            "min_width": null,
            "border": null,
            "align_items": null,
            "bottom": null,
            "_model_module": "@jupyter-widgets/base",
            "top": null,
            "grid_column": null,
            "overflow_y": null,
            "overflow_x": null,
            "grid_auto_flow": null,
            "grid_area": null,
            "grid_template_columns": null,
            "flex": null,
            "_model_name": "LayoutModel",
            "justify_items": null,
            "grid_row": null,
            "max_height": null,
            "align_content": null,
            "visibility": null,
            "align_self": null,
            "height": null,
            "min_height": null,
            "padding": null,
            "grid_auto_rows": null,
            "grid_gap": null,
            "max_width": null,
            "order": null,
            "_view_module_version": "1.2.0",
            "grid_template_areas": null,
            "object_position": null,
            "object_fit": null,
            "grid_auto_columns": null,
            "margin": null,
            "display": null,
            "left": null
          }
        },
        "77825524885143b78f62bdc6c6be7f90": {
          "model_module": "@jupyter-widgets/controls",
          "model_name": "DescriptionStyleModel",
          "state": {
            "_view_name": "StyleView",
            "_model_name": "DescriptionStyleModel",
            "description_width": "",
            "_view_module": "@jupyter-widgets/base",
            "_model_module_version": "1.5.0",
            "_view_count": null,
            "_view_module_version": "1.2.0",
            "_model_module": "@jupyter-widgets/controls"
          }
        },
        "e0e8a5e6dbb24758924c3194cee3ce14": {
          "model_module": "@jupyter-widgets/base",
          "model_name": "LayoutModel",
          "state": {
            "_view_name": "LayoutView",
            "grid_template_rows": null,
            "right": null,
            "justify_content": null,
            "_view_module": "@jupyter-widgets/base",
            "overflow": null,
            "_model_module_version": "1.2.0",
            "_view_count": null,
            "flex_flow": null,
            "width": null,
            "min_width": null,
            "border": null,
            "align_items": null,
            "bottom": null,
            "_model_module": "@jupyter-widgets/base",
            "top": null,
            "grid_column": null,
            "overflow_y": null,
            "overflow_x": null,
            "grid_auto_flow": null,
            "grid_area": null,
            "grid_template_columns": null,
            "flex": null,
            "_model_name": "LayoutModel",
            "justify_items": null,
            "grid_row": null,
            "max_height": null,
            "align_content": null,
            "visibility": null,
            "align_self": null,
            "height": null,
            "min_height": null,
            "padding": null,
            "grid_auto_rows": null,
            "grid_gap": null,
            "max_width": null,
            "order": null,
            "_view_module_version": "1.2.0",
            "grid_template_areas": null,
            "object_position": null,
            "object_fit": null,
            "grid_auto_columns": null,
            "margin": null,
            "display": null,
            "left": null
          }
        },
        "6a9cc0eea47d4bea8fca6dfb74fb4826": {
          "model_module": "@jupyter-widgets/base",
          "model_name": "LayoutModel",
          "state": {
            "_view_name": "LayoutView",
            "grid_template_rows": null,
            "right": null,
            "justify_content": null,
            "_view_module": "@jupyter-widgets/base",
            "overflow": null,
            "_model_module_version": "1.2.0",
            "_view_count": null,
            "flex_flow": null,
            "width": null,
            "min_width": null,
            "border": null,
            "align_items": null,
            "bottom": null,
            "_model_module": "@jupyter-widgets/base",
            "top": null,
            "grid_column": null,
            "overflow_y": null,
            "overflow_x": null,
            "grid_auto_flow": null,
            "grid_area": null,
            "grid_template_columns": null,
            "flex": null,
            "_model_name": "LayoutModel",
            "justify_items": null,
            "grid_row": null,
            "max_height": null,
            "align_content": null,
            "visibility": null,
            "align_self": null,
            "height": null,
            "min_height": null,
            "padding": null,
            "grid_auto_rows": null,
            "grid_gap": null,
            "max_width": null,
            "order": null,
            "_view_module_version": "1.2.0",
            "grid_template_areas": null,
            "object_position": null,
            "object_fit": null,
            "grid_auto_columns": null,
            "margin": null,
            "display": null,
            "left": null
          }
        }
      }
    }
  },
  "cells": [
    {
      "cell_type": "markdown",
      "metadata": {
        "id": "view-in-github",
        "colab_type": "text"
      },
      "source": [
        "<a href=\"https://colab.research.google.com/github/AARohanAA/pneum/blob/main/Run.ipynb\" target=\"_parent\"><img src=\"https://colab.research.google.com/assets/colab-badge.svg\" alt=\"Open In Colab\"/></a>"
      ]
    },
    {
      "cell_type": "code",
      "metadata": {
        "id": "-pDvyzkj4cFr"
      },
      "source": [
        "from fastai.vision.all import *"
      ],
      "execution_count": 15,
      "outputs": []
    },
    {
      "cell_type": "code",
      "metadata": {
        "id": "12eH6NGxQxOE"
      },
      "source": [
        "from ipywidgets import *"
      ],
      "execution_count": 16,
      "outputs": []
    },
    {
      "cell_type": "code",
      "metadata": {
        "id": "wbeRR1kG4krv"
      },
      "source": [
        "from fastai.imports import *"
      ],
      "execution_count": 17,
      "outputs": []
    },
    {
      "cell_type": "code",
      "metadata": {
        "id": "5326KpOeiOKH"
      },
      "source": [
        "def is_pneumonia(x): return x[0].isupper()"
      ],
      "execution_count": 18,
      "outputs": []
    },
    {
      "cell_type": "code",
      "metadata": {
        "id": "5ezRybwA5Zih"
      },
      "source": [
        "path = Path()\r\n",
        "learn_inf = load_learner(path/'export.pkl')\r\n",
        "btn_upload = widgets.FileUpload()\r\n",
        "out_pl = widgets.Output()\r\n",
        "lbl_pred = widgets.Label()\r\n",
        "btn_run = widgets.Button(description='Classify')"
      ],
      "execution_count": 28,
      "outputs": []
    },
    {
      "cell_type": "code",
      "metadata": {
        "id": "Kl1Wi-1yQpSJ"
      },
      "source": [
        "def on_click_classify(change):\r\n",
        "    img = PILImage.create(btn_upload.data[-1])\r\n",
        "    out_pl.clear_output()\r\n",
        "    with out_pl: display(img.to_thumb(128,128))\r\n",
        "    pred,pred_idx,probs = learn_inf.predict(img)\r\n",
        "    lbl_pred.value = f'Prediction: {pred}; Probability: {probs[pred_idx]:0.04f}'"
      ],
      "execution_count": 27,
      "outputs": []
    },
    {
      "cell_type": "code",
      "metadata": {
        "id": "1SJGYgprQ2SA"
      },
      "source": [
        "btn_run.on_click(on_click_classify)"
      ],
      "execution_count": 29,
      "outputs": []
    },
    {
      "cell_type": "code",
      "metadata": {
        "colab": {
          "base_uri": "https://localhost:8080/",
          "height": 227,
          "referenced_widgets": [
            "e7644065924f4dab89acd653d5897ee7",
            "c32ec18f150c4ab2a18aa7efb1fcb542",
            "55d63de42c7f419a92d8c0dca634724c",
            "f69fa469cd874e14a5480254ccf20a93",
            "99f925fa0d2a4504be398df26adc299d",
            "f7e25c440db6454e9b9f48bb75070589",
            "38517bbf4f96443fa361a0587088f417",
            "e72e7f42f27149ebb0de1c90f9ffef5e",
            "23f2f3fe770b47fd87cb39a24bb1ad08",
            "e730c3cafbb147a09a7afbf6720a28d6",
            "ab4795fb23304146b6d92cde4d303fd3",
            "3a87ded020e341b6b96b25d195988584",
            "7577ccd4ac5b43058875dc1af55a627f",
            "77825524885143b78f62bdc6c6be7f90",
            "e0e8a5e6dbb24758924c3194cee3ce14",
            "6a9cc0eea47d4bea8fca6dfb74fb4826"
          ]
        },
        "id": "eo_226s6zmcV",
        "outputId": "ea2119b7-244d-4901-de16-36758eb1ca30"
      },
      "source": [
        "VBox([widgets.Label('Classify Image! False: Pneumonia Positive  True: Pneumonia Negative'),\r\n",
        "      btn_upload, btn_run, out_pl, lbl_pred])"
      ],
      "execution_count": 36,
      "outputs": [
        {
          "output_type": "display_data",
          "data": {
            "application/vnd.jupyter.widget-view+json": {
              "model_id": "e7644065924f4dab89acd653d5897ee7",
              "version_minor": 0,
              "version_major": 2
            },
            "text/plain": [
              "VBox(children=(Label(value='Classify Image! False: Pneumonia Positive  True: Pneumonia Negative'), FileUpload(…"
            ]
          },
          "metadata": {
            "tags": []
          }
        }
      ]
    },
    {
      "cell_type": "code",
      "metadata": {
        "id": "txucQ50L0sWQ"
      },
      "source": [
        ""
      ],
      "execution_count": null,
      "outputs": []
    }
  ]
}